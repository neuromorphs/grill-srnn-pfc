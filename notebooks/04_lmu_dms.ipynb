{
 "cells": [
  {
   "cell_type": "markdown",
   "metadata": {},
   "source": [
    "# 04_lmu_dms\n",
    "\n",
    "This notebook shows how to implement the delayed match-to-sample task using an LMU."
   ]
  },
  {
   "cell_type": "code",
   "execution_count": null,
   "metadata": {},
   "outputs": [],
   "source": [
    "#default_exp lmu"
   ]
  },
  {
   "cell_type": "code",
   "execution_count": null,
   "metadata": {},
   "outputs": [],
   "source": [
    "#@title Environment Setup\n",
    "try:\n",
    "    # See if we are running on google.colab\n",
    "    from google.colab import files\n",
    "    IN_COLAB = True\n",
    "    !pip install --upgrade nengo nengo-gui nbdev git+https://github.com/neuromorphs/grill-srnn-pfc.git\n",
    "    !jupyter serverextension enable nengo_gui.jupyter\n",
    "    # TODO: kaggle creds for downloading data \n",
    "    \n",
    "except ModuleNotFoundError:\n",
    "    IN_COLAB = False\n",
    "\n",
    "%load_ext autoreload\n",
    "%autoreload 2\n",
    "%matplotlib inline"
   ]
  },
  {
   "cell_type": "markdown",
   "metadata": {},
   "source": [
    "## Input Setup\n",
    "\n",
    "We use the srnn_pfc library to generate the stimulus data and desired target.\n",
    "Here's what those signals look like:"
   ]
  },
  {
   "cell_type": "code",
   "execution_count": null,
   "metadata": {},
   "outputs": [
    {
     "data": {
      "image/png": "[encoded data removed]",
      "text/plain": [
       "<Figure size 576x360 with 3 Axes>"
      ]
     },
     "metadata": {
      "needs_background": "light"
     },
     "output_type": "display_data"
    }
   ],
   "source": [
    "from srnn_pfc.dms import DMSTask\n",
    "\n",
    "DMSTask().plot_inputs()"
   ]
  },
  {
   "cell_type": "markdown",
   "metadata": {},
   "source": [
    "## Legendre Memory Unit\n",
    "\n",
    "Now we need to build a network that takes the Target as input and outputs the Ideal value.\n",
    "\n",
    "We'll do this with an [LMU (Legendre Memory Unit)](https://github.com/abr/lmu). The standard way to express an LMU is a linear \"Legendre Delay Network\" (LDN) followed by a standard neural network non-linear layer. There are optional connections between the LDN and the non-linear layer, but let's be very simple and just have a purely feed-forward system.  The only recurrence in this version is in the linear LDN.  (Note: later in this notebook we'll move the recurrence to the neurons so that it's just one recurrent network doing everything)\n",
    "\n",
    "Here's a quick implementation of the LDN using a Nengo [`Process`](https://www.nengo.ai/nengo/examples/advanced/processes.html), which is a slightly fancier way of configuring a `Node`."
   ]
  },
  {
   "cell_type": "code",
   "execution_count": null,
   "metadata": {},
   "outputs": [],
   "source": [
    "#export\n",
    "import numpy as np\n",
    "import nengo\n",
    "import scipy.linalg\n",
    "\n",
    "\n",
    "class LDN(nengo.Process):\n",
    "    def __init__(self, theta, q, size_in=1):\n",
    "        self.q = q              # number of internal state dimensions per input\n",
    "        self.theta = theta      # size of time window (in seconds)\n",
    "        self.size_in = size_in  # number of inputs\n",
    "\n",
    "        # Do Aaron's math to generate the matrices\n",
    "        #  https://github.com/arvoelke/nengolib/blob/master/nengolib/synapses/analog.py#L536\n",
    "        Q = np.arange(q, dtype=np.float64)\n",
    "        R = (2*Q + 1)[:, None] / theta\n",
    "        j, i = np.meshgrid(Q, Q)\n",
    "\n",
    "        self.A = np.where(i < j, -1, (-1.)**(i-j+1)) * R\n",
    "        self.B = (-1.)**Q[:, None] * R\n",
    "\n",
    "        super().__init__(default_size_in=size_in, default_size_out=q*size_in)\n",
    "\n",
    "    def make_step(self, shape_in, shape_out, dt, rng, state=None):\n",
    "        state = np.zeros((self.q, self.size_in))\n",
    "\n",
    "        # Handle the fact that we're discretizing the time step\n",
    "        #  https://en.wikipedia.org/wiki/Discretization#Discretization_of_linear_state_space_models\n",
    "        Ad = scipy.linalg.expm(self.A*dt)\n",
    "        Bd = np.dot(np.dot(np.linalg.inv(self.A), (Ad-np.eye(self.q))), self.B)\n",
    "\n",
    "        # this code will be called every timestep\n",
    "        def step_legendre(t, x, state=state):\n",
    "            state[:] = np.dot(Ad, state) + np.dot(Bd, x[None, :])\n",
    "            return state.T.flatten()\n",
    "        return step_legendre\n"
   ]
  },
  {
   "cell_type": "markdown",
   "metadata": {},
   "source": [
    "## Model 1: Purely Feed-forward"
   ]
  },
  {
   "cell_type": "code",
   "execution_count": null,
   "metadata": {},
   "outputs": [],
   "source": [
    "from srnn_pfc.dms import DMSTask\n",
    "\n",
    "\n",
    "def make_ff_lmu_net(theta=6.0, q=6, n_neurons=3000, seed=1337,\n",
    "                    out_transform=None,\n",
    "                    n_trials_per_cond=5, trial_seed=1337):\n",
    "    dms = DMSTask(gen_trials_per_cond=n_trials_per_cond, cond_seed=trial_seed)\n",
    "    \n",
    "    model = nengo.Network()\n",
    "    with model:\n",
    "        # Feedforward: targets --> ldn --> ensemble\n",
    "        stim = nengo.Node(dms.stim_signal)\n",
    "        ldn = nengo.Node(LDN(theta=theta, q=q, size_in=2))\n",
    "        nengo.Connection(stim, ldn, synapse=None)\n",
    "        ens = nengo.Ensemble(n_neurons=n_neurons, dimensions=ldn.output.q*2, seed=seed)\n",
    "        nengo.Connection(ldn, ens)\n",
    "        \n",
    "        # Grab a dim=1 output\n",
    "        output = nengo.Node(None, size_in=1)\n",
    "        if out_transform is None:\n",
    "            out_transform = np.ones((1, ens.n_neurons))\n",
    "        nengo.Connection(ens.neurons, output,\n",
    "                         transform=out_transform)\n",
    "        \n",
    "        # Sim the 'ideal' signal.\n",
    "        ideal = nengo.Node(dms.ideal_signal)\n",
    "        \n",
    "        # Capture the output\n",
    "        probes = {\n",
    "            'ensemble': nengo.Probe(ens.neurons),\n",
    "            'output': nengo.Probe(output),\n",
    "            'ideal': nengo.Probe(ideal)\n",
    "        }\n",
    "    return model, probes"
   ]
  },
  {
   "cell_type": "markdown",
   "metadata": {},
   "source": [
    "### Offline Training"
   ]
  },
  {
   "cell_type": "markdown",
   "metadata": {},
   "source": [
    "Now we run our network for a while, recording the data from the neurons."
   ]
  },
  {
   "cell_type": "code",
   "execution_count": null,
   "metadata": {},
   "outputs": [
    {
     "data": {
      "application/vdom.v1+json": {
       "attributes": {},
       "tagName": "div"
      },
      "text/html": [
       "\n",
       "                <script>\n",
       "                    if (Jupyter.version.split(\".\")[0] < 5) {\n",
       "                        var pb = document.getElementById(\"34bd37e1-2548-4275-bc17-389dd61b10f5\");\n",
       "                        var text = document.createTextNode(\n",
       "                            \"HMTL progress bar requires Jupyter Notebook >= \" +\n",
       "                            \"5.0 or Jupyter Lab. Alternatively, you can use \" +\n",
       "                            \"TerminalProgressBar().\");\n",
       "                        pb.parentNode.insertBefore(text, pb);\n",
       "                    }\n",
       "                </script>\n",
       "                <div id=\"34bd37e1-2548-4275-bc17-389dd61b10f5\" style=\"\n",
       "                    width: 100%;\n",
       "                    border: 1px solid #cfcfcf;\n",
       "                    border-radius: 4px;\n",
       "                    text-align: center;\n",
       "                    position: relative;\">\n",
       "                  <div class=\"pb-text\" style=\"\n",
       "                      position: absolute;\n",
       "                      width: 100%;\">\n",
       "                    0%\n",
       "                  </div>\n",
       "                  <div class=\"pb-fill\" style=\"\n",
       "                      background-color: #bdd2e6;\n",
       "                      width: 0%;\">\n",
       "                    <style type=\"text/css\" scoped=\"scoped\">\n",
       "                        @keyframes pb-fill-anim {\n",
       "                            0% { background-position: 0 0; }\n",
       "                            100% { background-position: 100px 0; }\n",
       "                        }\n",
       "                    </style>\n",
       "                    &nbsp;\n",
       "                  </div>\n",
       "                </div>"
      ],
      "text/plain": [
       "HtmlProgressBar cannot be displayed. Please use the TerminalProgressBar. It can be enabled with `nengo.rc.set('progress', 'progress_bar', 'nengo.utils.progress.TerminalProgressBar')`."
      ]
     },
     "metadata": {},
     "output_type": "display_data"
    },
    {
     "data": {
      "application/vdom.v1+json": {
       "attributes": {
        "id": "53920f25-fcb8-4e1a-8497-7409a9932e11",
        "style": {
         "border": "1px solid #cfcfcf",
         "borderRadius": "4px",
         "boxSizing": "border-box",
         "position": "relative",
         "textAlign": "center",
         "width": "100%"
        }
       },
       "children": [
        {
         "attributes": {
          "class": "pb-text",
          "style": {
           "position": "absolute",
           "width": "100%"
          }
         },
         "children": [
          "Build finished in 0:00:01."
         ],
         "tagName": "div"
        },
        {
         "attributes": {
          "class": "pb-fill",
          "style": {
           "animation": "none",
           "backgroundColor": "#bdd2e6",
           "backgroundImage": "none",
           "backgroundSize": "100px 100%",
           "width": "100%"
          }
         },
         "children": [
          {
           "attributes": {
            "scoped": "scoped",
            "type": "text/css"
           },
           "children": [
            "\n                        @keyframes pb-fill-anim {\n                            0% { background-position: 0 0; }\n                            100% { background-position: 100px 0; }\n                        }}"
           ],
           "tagName": "style"
          },
          " "
         ],
         "tagName": "div"
        }
       ],
       "tagName": "div"
      },
      "text/html": [
       "<script>\n",
       "              (function () {\n",
       "                  var root = document.getElementById('34bd37e1-2548-4275-bc17-389dd61b10f5');\n",
       "                  var text = root.getElementsByClassName('pb-text')[0];\n",
       "                  var fill = root.getElementsByClassName('pb-fill')[0];\n",
       "\n",
       "                  text.innerHTML = 'Build finished in 0:00:01.';\n",
       "                  \n",
       "            fill.style.width = '100%';\n",
       "            fill.style.animation = 'pb-fill-anim 2s linear infinite';\n",
       "            fill.style.backgroundSize = '100px 100%';\n",
       "            fill.style.backgroundImage = 'repeating-linear-gradient(' +\n",
       "                '90deg, #bdd2e6, #edf2f8 40%, #bdd2e6 80%, #bdd2e6)';\n",
       "        \n",
       "                  \n",
       "                fill.style.animation = 'none';\n",
       "                fill.style.backgroundImage = 'none';\n",
       "            \n",
       "              })();\n",
       "        </script>"
      ]
     },
     "metadata": {},
     "output_type": "display_data"
    },
    {
     "data": {
      "application/vdom.v1+json": {
       "attributes": {},
       "tagName": "div"
      },
      "text/html": [
       "\n",
       "                <script>\n",
       "                    if (Jupyter.version.split(\".\")[0] < 5) {\n",
       "                        var pb = document.getElementById(\"b059d90e-d730-464f-8030-c8ee30c164c4\");\n",
       "                        var text = document.createTextNode(\n",
       "                            \"HMTL progress bar requires Jupyter Notebook >= \" +\n",
       "                            \"5.0 or Jupyter Lab. Alternatively, you can use \" +\n",
       "                            \"TerminalProgressBar().\");\n",
       "                        pb.parentNode.insertBefore(text, pb);\n",
       "                    }\n",
       "                </script>\n",
       "                <div id=\"b059d90e-d730-464f-8030-c8ee30c164c4\" style=\"\n",
       "                    width: 100%;\n",
       "                    border: 1px solid #cfcfcf;\n",
       "                    border-radius: 4px;\n",
       "                    text-align: center;\n",
       "                    position: relative;\">\n",
       "                  <div class=\"pb-text\" style=\"\n",
       "                      position: absolute;\n",
       "                      width: 100%;\">\n",
       "                    0%\n",
       "                  </div>\n",
       "                  <div class=\"pb-fill\" style=\"\n",
       "                      background-color: #bdd2e6;\n",
       "                      width: 0%;\">\n",
       "                    <style type=\"text/css\" scoped=\"scoped\">\n",
       "                        @keyframes pb-fill-anim {\n",
       "                            0% { background-position: 0 0; }\n",
       "                            100% { background-position: 100px 0; }\n",
       "                        }\n",
       "                    </style>\n",
       "                    &nbsp;\n",
       "                  </div>\n",
       "                </div>"
      ],
      "text/plain": [
       "HtmlProgressBar cannot be displayed. Please use the TerminalProgressBar. It can be enabled with `nengo.rc.set('progress', 'progress_bar', 'nengo.utils.progress.TerminalProgressBar')`."
      ]
     },
     "metadata": {},
     "output_type": "display_data"
    },
    {
     "data": {
      "application/vdom.v1+json": {
       "attributes": {
        "id": "ebd07330-f8a8-4e8d-b39d-9c9f1dd66de3",
        "style": {
         "border": "1px solid #cfcfcf",
         "borderRadius": "4px",
         "boxSizing": "border-box",
         "position": "relative",
         "textAlign": "center",
         "width": "100%"
        }
       },
       "children": [
        {
         "attributes": {
          "class": "pb-text",
          "style": {
           "position": "absolute",
           "width": "100%"
          }
         },
         "children": [
          "Simulation finished in 0:01:05."
         ],
         "tagName": "div"
        },
        {
         "attributes": {
          "class": "pb-fill",
          "style": {
           "animation": "none",
           "backgroundColor": "#bdd2e6",
           "backgroundImage": "none",
           "transition": "width 0.1s linear",
           "width": "100%"
          }
         },
         "children": [
          {
           "attributes": {
            "scoped": "scoped",
            "type": "text/css"
           },
           "children": [
            "\n                        @keyframes pb-fill-anim {\n                            0% { background-position: 0 0; }\n                            100% { background-position: 100px 0; }\n                        }}"
           ],
           "tagName": "style"
          },
          " "
         ],
         "tagName": "div"
        }
       ],
       "tagName": "div"
      },
      "text/html": [
       "<script>\n",
       "              (function () {\n",
       "                  var root = document.getElementById('b059d90e-d730-464f-8030-c8ee30c164c4');\n",
       "                  var text = root.getElementsByClassName('pb-text')[0];\n",
       "                  var fill = root.getElementsByClassName('pb-fill')[0];\n",
       "\n",
       "                  text.innerHTML = 'Simulation finished in 0:01:05.';\n",
       "                  \n",
       "            if (100.0 > 0.) {\n",
       "                fill.style.transition = 'width 0.1s linear';\n",
       "            } else {\n",
       "                fill.style.transition = 'none';\n",
       "            }\n",
       "\n",
       "            fill.style.width = '100.0%';\n",
       "            fill.style.animation = 'none';\n",
       "            fill.style.backgroundImage = 'none'\n",
       "        \n",
       "                  \n",
       "                fill.style.animation = 'none';\n",
       "                fill.style.backgroundImage = 'none';\n",
       "            \n",
       "              })();\n",
       "        </script>"
      ]
     },
     "metadata": {},
     "output_type": "display_data"
    }
   ],
   "source": [
    "train_per_cond = 3\n",
    "train_seed = 1337\n",
    "model, probes = make_ff_lmu_net(n_trials_per_cond=train_per_cond,\n",
    "                                trial_seed=train_seed)\n",
    "sim = nengo.Simulator(model)\n",
    "sim.run(6 * 8 * train_per_cond)"
   ]
  },
  {
   "cell_type": "markdown",
   "metadata": {},
   "source": [
    "We use the simulated data to compute decoders for the output we want using L2-regularized least squares regression. Solve for $D$ in $AD=Y$, where $Y$ is the (filtered) ideal response, $A$ is the (filtered) ensemble activity, and $D$ is the decoder matrix.\n",
    "\n",
    "As there is a lot of data here, we use an iterative least-squares solver from scipy, which should run faster than the default solver for this case."
   ]
  },
  {
   "cell_type": "code",
   "execution_count": null,
   "metadata": {},
   "outputs": [],
   "source": [
    "filt = nengo.synapses.Lowpass(0.01)\n",
    "A = filt.filt(sim.data[probes['ensemble']])\n",
    "Y = filt.filt(sim.data[probes['ideal']])\n",
    "\n",
    "import nengo.utils.least_squares_solvers as lss\n",
    "D, info = nengo.solvers.LstsqL2(solver=lss.LSMRScipy())(A, Y)"
   ]
  },
  {
   "cell_type": "code",
   "execution_count": null,
   "metadata": {},
   "outputs": [
    {
     "data": {
      "image/png": "[encoded data removed]",
      "text/plain": [
       "<Figure size 432x288 with 1 Axes>"
      ]
     },
     "metadata": {
      "needs_background": "light"
     },
     "output_type": "display_data"
    }
   ],
   "source": [
    "import matplotlib.pyplot as plt\n",
    "\n",
    "train_decoded = A.dot(D)\n",
    "train_ideal = sim.data[probes['ideal']]\n",
    "train_tvec = sim.trange()\n",
    "plt.plot(train_tvec, train_decoded, label='decoded')\n",
    "plt.plot(train_tvec, train_ideal, label='ideal')\n",
    "plt.legend()\n",
    "plt.xlim([30, 90])\n",
    "plt.show()"
   ]
  },
  {
   "cell_type": "markdown",
   "metadata": {},
   "source": [
    "### Online Testing\n",
    "\n",
    "That seems like a pretty good decoder. Let's build our network again, using that decoder, but with a new set of trials."
   ]
  },
  {
   "cell_type": "code",
   "execution_count": null,
   "metadata": {},
   "outputs": [
    {
     "data": {
      "application/vdom.v1+json": {
       "attributes": {},
       "tagName": "div"
      },
      "text/html": [
       "\n",
       "                <script>\n",
       "                    if (Jupyter.version.split(\".\")[0] < 5) {\n",
       "                        var pb = document.getElementById(\"2a2c4e6b-4b88-48aa-96b1-a2ada8ffb400\");\n",
       "                        var text = document.createTextNode(\n",
       "                            \"HMTL progress bar requires Jupyter Notebook >= \" +\n",
       "                            \"5.0 or Jupyter Lab. Alternatively, you can use \" +\n",
       "                            \"TerminalProgressBar().\");\n",
       "                        pb.parentNode.insertBefore(text, pb);\n",
       "                    }\n",
       "                </script>\n",
       "                <div id=\"2a2c4e6b-4b88-48aa-96b1-a2ada8ffb400\" style=\"\n",
       "                    width: 100%;\n",
       "                    border: 1px solid #cfcfcf;\n",
       "                    border-radius: 4px;\n",
       "                    text-align: center;\n",
       "                    position: relative;\">\n",
       "                  <div class=\"pb-text\" style=\"\n",
       "                      position: absolute;\n",
       "                      width: 100%;\">\n",
       "                    0%\n",
       "                  </div>\n",
       "                  <div class=\"pb-fill\" style=\"\n",
       "                      background-color: #bdd2e6;\n",
       "                      width: 0%;\">\n",
       "                    <style type=\"text/css\" scoped=\"scoped\">\n",
       "                        @keyframes pb-fill-anim {\n",
       "                            0% { background-position: 0 0; }\n",
       "                            100% { background-position: 100px 0; }\n",
       "                        }\n",
       "                    </style>\n",
       "                    &nbsp;\n",
       "                  </div>\n",
       "                </div>"
      ],
      "text/plain": [
       "HtmlProgressBar cannot be displayed. Please use the TerminalProgressBar. It can be enabled with `nengo.rc.set('progress', 'progress_bar', 'nengo.utils.progress.TerminalProgressBar')`."
      ]
     },
     "metadata": {},
     "output_type": "display_data"
    },
    {
     "data": {
      "application/vdom.v1+json": {
       "attributes": {
        "id": "143f0e77-5bee-463b-acfa-6418b4307764",
        "style": {
         "border": "1px solid #cfcfcf",
         "borderRadius": "4px",
         "boxSizing": "border-box",
         "position": "relative",
         "textAlign": "center",
         "width": "100%"
        }
       },
       "children": [
        {
         "attributes": {
          "class": "pb-text",
          "style": {
           "position": "absolute",
           "width": "100%"
          }
         },
         "children": [
          "Build finished in 0:00:01."
         ],
         "tagName": "div"
        },
        {
         "attributes": {
          "class": "pb-fill",
          "style": {
           "animation": "none",
           "backgroundColor": "#bdd2e6",
           "backgroundImage": "none",
           "backgroundSize": "100px 100%",
           "width": "100%"
          }
         },
         "children": [
          {
           "attributes": {
            "scoped": "scoped",
            "type": "text/css"
           },
           "children": [
            "\n                        @keyframes pb-fill-anim {\n                            0% { background-position: 0 0; }\n                            100% { background-position: 100px 0; }\n                        }}"
           ],
           "tagName": "style"
          },
          " "
         ],
         "tagName": "div"
        }
       ],
       "tagName": "div"
      },
      "text/html": [
       "<script>\n",
       "              (function () {\n",
       "                  var root = document.getElementById('2a2c4e6b-4b88-48aa-96b1-a2ada8ffb400');\n",
       "                  var text = root.getElementsByClassName('pb-text')[0];\n",
       "                  var fill = root.getElementsByClassName('pb-fill')[0];\n",
       "\n",
       "                  text.innerHTML = 'Build finished in 0:00:01.';\n",
       "                  \n",
       "            fill.style.width = '100%';\n",
       "            fill.style.animation = 'pb-fill-anim 2s linear infinite';\n",
       "            fill.style.backgroundSize = '100px 100%';\n",
       "            fill.style.backgroundImage = 'repeating-linear-gradient(' +\n",
       "                '90deg, #bdd2e6, #edf2f8 40%, #bdd2e6 80%, #bdd2e6)';\n",
       "        \n",
       "                  \n",
       "                fill.style.animation = 'none';\n",
       "                fill.style.backgroundImage = 'none';\n",
       "            \n",
       "              })();\n",
       "        </script>"
      ]
     },
     "metadata": {},
     "output_type": "display_data"
    },
    {
     "data": {
      "application/vdom.v1+json": {
       "attributes": {},
       "tagName": "div"
      },
      "text/html": [
       "\n",
       "                <script>\n",
       "                    if (Jupyter.version.split(\".\")[0] < 5) {\n",
       "                        var pb = document.getElementById(\"3db04d02-8e2b-4819-917f-b2384f2f6ee2\");\n",
       "                        var text = document.createTextNode(\n",
       "                            \"HMTL progress bar requires Jupyter Notebook >= \" +\n",
       "                            \"5.0 or Jupyter Lab. Alternatively, you can use \" +\n",
       "                            \"TerminalProgressBar().\");\n",
       "                        pb.parentNode.insertBefore(text, pb);\n",
       "                    }\n",
       "                </script>\n",
       "                <div id=\"3db04d02-8e2b-4819-917f-b2384f2f6ee2\" style=\"\n",
       "                    width: 100%;\n",
       "                    border: 1px solid #cfcfcf;\n",
       "                    border-radius: 4px;\n",
       "                    text-align: center;\n",
       "                    position: relative;\">\n",
       "                  <div class=\"pb-text\" style=\"\n",
       "                      position: absolute;\n",
       "                      width: 100%;\">\n",
       "                    0%\n",
       "                  </div>\n",
       "                  <div class=\"pb-fill\" style=\"\n",
       "                      background-color: #bdd2e6;\n",
       "                      width: 0%;\">\n",
       "                    <style type=\"text/css\" scoped=\"scoped\">\n",
       "                        @keyframes pb-fill-anim {\n",
       "                            0% { background-position: 0 0; }\n",
       "                            100% { background-position: 100px 0; }\n",
       "                        }\n",
       "                    </style>\n",
       "                    &nbsp;\n",
       "                  </div>\n",
       "                </div>"
      ],
      "text/plain": [
       "HtmlProgressBar cannot be displayed. Please use the TerminalProgressBar. It can be enabled with `nengo.rc.set('progress', 'progress_bar', 'nengo.utils.progress.TerminalProgressBar')`."
      ]
     },
     "metadata": {},
     "output_type": "display_data"
    },
    {
     "data": {
      "application/vdom.v1+json": {
       "attributes": {
        "id": "9317647c-8936-46fb-a5f7-a23150828815",
        "style": {
         "border": "1px solid #cfcfcf",
         "borderRadius": "4px",
         "boxSizing": "border-box",
         "position": "relative",
         "textAlign": "center",
         "width": "100%"
        }
       },
       "children": [
        {
         "attributes": {
          "class": "pb-text",
          "style": {
           "position": "absolute",
           "width": "100%"
          }
         },
         "children": [
          "Simulation finished in 0:02:09."
         ],
         "tagName": "div"
        },
        {
         "attributes": {
          "class": "pb-fill",
          "style": {
           "animation": "none",
           "backgroundColor": "#bdd2e6",
           "backgroundImage": "none",
           "transition": "width 0.1s linear",
           "width": "100%"
          }
         },
         "children": [
          {
           "attributes": {
            "scoped": "scoped",
            "type": "text/css"
           },
           "children": [
            "\n                        @keyframes pb-fill-anim {\n                            0% { background-position: 0 0; }\n                            100% { background-position: 100px 0; }\n                        }}"
           ],
           "tagName": "style"
          },
          " "
         ],
         "tagName": "div"
        }
       ],
       "tagName": "div"
      },
      "text/html": [
       "<script>\n",
       "              (function () {\n",
       "                  var root = document.getElementById('3db04d02-8e2b-4819-917f-b2384f2f6ee2');\n",
       "                  var text = root.getElementsByClassName('pb-text')[0];\n",
       "                  var fill = root.getElementsByClassName('pb-fill')[0];\n",
       "\n",
       "                  text.innerHTML = 'Simulation finished in 0:02:09.';\n",
       "                  \n",
       "            if (100.0 > 0.) {\n",
       "                fill.style.transition = 'width 0.1s linear';\n",
       "            } else {\n",
       "                fill.style.transition = 'none';\n",
       "            }\n",
       "\n",
       "            fill.style.width = '100.0%';\n",
       "            fill.style.animation = 'none';\n",
       "            fill.style.backgroundImage = 'none'\n",
       "        \n",
       "                  \n",
       "                fill.style.animation = 'none';\n",
       "                fill.style.backgroundImage = 'none';\n",
       "            \n",
       "              })();\n",
       "        </script>"
      ]
     },
     "metadata": {},
     "output_type": "display_data"
    }
   ],
   "source": [
    "test_per_cond = 3\n",
    "test_seed = 1234\n",
    "model, probes = make_ff_lmu_net(out_transform=D.T,\n",
    "                                n_trials_per_cond=test_per_cond,\n",
    "                                trial_seed=test_seed)\n",
    "sim = nengo.Simulator(model)\n",
    "sim.run(6 * 16 * test_per_cond)  # 6 seconds per trial, 16 conditions"
   ]
  },
  {
   "cell_type": "code",
   "execution_count": null,
   "metadata": {},
   "outputs": [
    {
     "data": {
      "image/png": "[encoded data removed]",
      "text/plain": [
       "<Figure size 864x432 with 1 Axes>"
      ]
     },
     "metadata": {
      "needs_background": "light"
     },
     "output_type": "display_data"
    }
   ],
   "source": [
    "test_output = filt.filt(sim.data[probes['output']])\n",
    "test_ideal = sim.data[probes['ideal']]\n",
    "test_tvec = sim.trange()\n",
    "\n",
    "tvec = np.hstack((train_tvec, train_tvec[-1] + np.median(np.diff(test_tvec)) + test_tvec))\n",
    "\n",
    "plt.figure(figsize=(12, 6))\n",
    "plt.plot(tvec, np.vstack((train_decoded, test_output)))\n",
    "plt.plot(tvec, np.vstack((train_ideal, test_ideal)))\n",
    "plt.axvline(train_tvec[-1], ls='--', color='k')\n",
    "plt.text(train_tvec[-1] - 30, 1.15, 'TRAINING', ha='center')\n",
    "plt.text(train_tvec[-1] + 30, 1.15, 'TESTING', ha='center')\n",
    "plt.xlim(train_tvec[-1] - 60, train_tvec[-1] + 60)\n",
    "plt.show()"
   ]
  },
  {
   "cell_type": "markdown",
   "metadata": {},
   "source": [
    "Awesome! That seems to generalize pretty well.\n",
    "\n",
    "More training examples might help, but it's still doing a pretty good job. We might want to try seeing how varying the number of neurons in the non-linearity affects things. There's also the `q` parameter in the LDN to vary."
   ]
  },
  {
   "cell_type": "markdown",
   "metadata": {},
   "source": [
    "## Model 2: LDN in RNN\n",
    "\n",
    "However, there's another big change we might want to make. With the network as defined above, the recurrence is not done with neurons. It's just done in math, with this simple linear calculation happening before the neurons. This may be what we want to do if we're just interested in efficiency on traditional hardware. But, we can also re-organize our network such that we recurrently connect the neurons to approximate the differential equation of the LDN. We do this using the [NEF trick](http://compneuro.uwaterloo.ca/files/publications/stewart.2012d.pdf) for approximating any differential equation using neurons. Importantly, we can then use those exact same neurons for the readout, so we only have one group of neurons in our final model.\n",
    "\n",
    "The basic LDN differential equation is ${{dm} \\over {dt}} = Am+Bu$ and the LDN code above computes those $A$ and $B$ matrices for us.  However, those matrices are for the case of 1 dimensional input.  In this case we actually have 2 dimensions being input, and the LDN just treats that as two separate LDNs.  If we want to write all of that as one giant differential equation of $2q$ dimensions, then we need to make new A and B matrices that just have copies of the old A and B matrices along the diagonal."
   ]
  },
  {
   "cell_type": "code",
   "execution_count": null,
   "metadata": {},
   "outputs": [],
   "source": [
    "#export\n",
    "\n",
    "def make_ldn_B_A(theta=6.0, q=6, size_in=2):\n",
    "    ldn = LDN(theta=theta, q=q, size_in=2)\n",
    "    B_full = np.zeros((ldn.q*size_in, size_in))\n",
    "    A_full = np.zeros((ldn.q*size_in, ldn.q*size_in))\n",
    "    for i in range(size_in):\n",
    "        B_full[ldn.q*i:ldn.q*(i+1), i:i+1] = ldn.B\n",
    "        A_full[ldn.q*i:ldn.q*(i+1), ldn.q*i:ldn.q*(i+1)] = ldn.A\n",
    "    \n",
    "    return ldn, B_full, A_full\n"
   ]
  },
  {
   "cell_type": "code",
   "execution_count": null,
   "metadata": {},
   "outputs": [
    {
     "data": {
      "text/plain": [
       "Text(0.5, 1.0, 'A Full')"
      ]
     },
     "execution_count": null,
     "metadata": {},
     "output_type": "execute_result"
    },
    {
     "data": {
      "image/png": "[encoded data removed]",
      "text/plain": [
       "<Figure size 432x288 with 4 Axes>"
      ]
     },
     "metadata": {
      "needs_background": "light"
     },
     "output_type": "display_data"
    }
   ],
   "source": [
    "ldn, B_full, A_full = make_ldn_B_A()\n",
    "\n",
    "plt.subplot(1, 4, 1)\n",
    "plt.imshow(ldn.B)\n",
    "plt.title('LDN B')\n",
    "\n",
    "plt.subplot(1, 4, 2)\n",
    "plt.imshow(B_full)\n",
    "plt.title('B Full')\n",
    "\n",
    "plt.subplot(1, 4, 3)\n",
    "plt.imshow(ldn.A)\n",
    "plt.title('LDN A')\n",
    "\n",
    "plt.subplot(1, 4, 4)\n",
    "plt.imshow(A_full)\n",
    "plt.title('A Full')"
   ]
  },
  {
   "cell_type": "markdown",
   "metadata": {},
   "source": [
    "Now we define our neural network with just one recurrence, and we use the NEF trick of computing $\\tau g(u)$ on the input and $\\tau f(x)+x$ on the recurrent connection to give a resulting network that approximates ${{dx} \\over {dt}} = f(x)+g(u)$.\n",
    "\n",
    "In the ideal case, we could just use the decoders that we've previously computed to use with this network.  However, it's only going to be approximating that differential equation, and so any differences may change the result. So we need to redo the training.\n",
    "\n",
    "The network generator function has some extra parameters for constraining the model to be a little more biological. We won't go into that now. If you use the default kwargs `(dales_law=False, max_rates='default', hetero_tau=False)` then this gives the unconstrained model."
   ]
  },
  {
   "cell_type": "code",
   "execution_count": null,
   "metadata": {},
   "outputs": [],
   "source": [
    "#export\n",
    "from srnn_pfc.dms import DMSTask\n",
    "import nengo_bio as bio\n",
    "import nengo.dists\n",
    "\n",
    "\n",
    "_rate_x = [\n",
    "    3.56, 7.12, 10.68, 14.24, 17.8,\n",
    "    21.36, 24.92, 28.48, 32.04, 35.6,\n",
    "    39.16, 42.72, 46.28, 49.84, 53.4,\n",
    "    56.96, 60.52, 64.08, 67.64, 71.2,\n",
    "    74.76, 78.32, 81.88, 85.44, 89.,\n",
    "    92.56, 96.12, 99.68, 103.24, 106.8,\n",
    "    110.36, 113.92, 117.48, 121.04, 124.6,\n",
    "    128.16, 131.72, 135.28, 138.84, 142.4,\n",
    "    145.96, 149.52, 153.08, 156.64, 160.2,\n",
    "    163.76, 167.32, 170.88, 174.44, 178.]\n",
    "_p_max_rates = np.array([\n",
    "    0.04166667, 0.15345528, 0.16971545, 0.12804878, 0.06707317,\n",
    "    0.10670732, 0.06402439, 0.05284553, 0.04471545, 0.02235772,\n",
    "    0.0254065 , 0.02845528, 0.0152439 , 0.01727642, 0.00914634,\n",
    "    0.01219512, 0.00914634, 0.01219512, 0.00203252, 0.00101626,\n",
    "    0.00101626, 0.00101626, 0.00101626, 0.00304878, 0.00101626,\n",
    "    0.        , 0.00101626, 0.00101626, 0.00101626, 0.        ,\n",
    "    0.00203252, 0.00101626, 0.00101626, 0.        , 0.        ,\n",
    "    0.        , 0.        , 0.        , 0.        , 0.        ,\n",
    "    0.        , 0.00101626, 0.        , 0.        , 0.00101626,\n",
    "    0.        , 0.        , 0.        , 0.        , 0.00101626])\n",
    "max_rates_pdf = nengo.dists.PDF(_rate_x, _p_max_rates / np.sum(_p_max_rates))\n",
    "\n",
    "\n",
    "def make_lmu_dms(theta=6.0, q=6, n_neurons=2000, seed=1337,\n",
    "                 out_transform=None,\n",
    "                 n_trials_per_cond=5, trial_seed=1337,\n",
    "                 tau=0.3,\n",
    "                 size_in=2,\n",
    "                 dales_law=False,\n",
    "                 max_rates='default',\n",
    "                 hetero_tau=False\n",
    "                ):\n",
    "    \"\"\"\n",
    "    Make a LMU network that performs the delayed match to sample task.\n",
    "    returns the model and a dictionary of the probes.\n",
    "    \n",
    "    hetero_tau: https://arvoelke.github.io/nengolib-docs/notebooks/examples/hetero_synapse.html\n",
    "    \"\"\"\n",
    "    ldn, B_full, A_full = make_ldn_B_A(theta=theta, q=q, size_in=size_in)    \n",
    "    dms = DMSTask(gen_trials_per_cond=n_trials_per_cond, cond_seed=trial_seed)\n",
    "    \n",
    "    if max_rates in ['default']:\n",
    "        max_rates = nengo.dists.Uniform(200, 400)\n",
    "    if max_rates in ['uniform_low']:\n",
    "        max_rates = nengo.dists.Uniform(20, 200)\n",
    "    elif max_rates in ['data']:\n",
    "        max_rates = max_rates_pdf\n",
    "        \n",
    "    ens_kwargs = {'n_neurons': n_neurons, 'dimensions': ldn.q*size_in, 'seed': seed}\n",
    "    if dales_law:\n",
    "        Ensemble = bio.Ensemble\n",
    "        ens_kwargs['p_exc'] = 0.8\n",
    "    else:\n",
    "        Ensemble = nengo.Ensemble\n",
    "    \n",
    "    # Dummy model to get weights for ensemble's identity decoder with correct dimensionality.\n",
    "    # See https://github.com/neuromorphs/grill-lmu/blob/master/weights/Connection%20Weights%20in%20Nengo.ipynb\n",
    "    with nengo.Network() as dummy_model:\n",
    "        ens = Ensemble(max_rates=max_rates, **ens_kwargs)\n",
    "        output = nengo.Node(None, size_in=ldn.q*size_in)\n",
    "        c = nengo.Connection(ens, output)\n",
    "    dummy_sim = nengo.Simulator(dummy_model)\n",
    "    \n",
    "    E = dummy_sim.data[ens].encoders\n",
    "    D = dummy_sim.data[c].weights\n",
    "    gain = dummy_sim.data[ens].gain\n",
    "    bias = dummy_sim.data[ens].bias\n",
    "    E = (gain * E.T).T\n",
    "    # In the real model, when we make connections to the ensemble, we can multiply transforms\n",
    "    # by this identity transform to get per-neuron weights\n",
    "    \n",
    "    # This is useful when we want to use a mixture of synaptic constants\n",
    "    taus = nengo.dists.Uniform(0.01, 0.7).sample(n_neurons)\n",
    "    \n",
    "    with nengo.Network() as model:\n",
    "        # When creating the ensemble, set gain to 1 and bias to 0 because we will get them from\n",
    "        # previous calculations\n",
    "        ens = Ensemble(gain=np.ones(n_neurons), bias=np.zeros(n_neurons), **ens_kwargs)\n",
    "\n",
    "        # Add back the bias\n",
    "        bias_stim = nengo.Node(1)\n",
    "        nengo.Connection(bias_stim, ens.neurons, transform=bias.reshape((n_neurons, 1)), synapse=None)\n",
    "\n",
    "        # Task-stimulus input\n",
    "        stim = nengo.Node(dms.stim_signal)\n",
    "        if not hetero_tau:\n",
    "            stim_tf = E.dot(tau * B_full)\n",
    "            nengo.Connection(stim, ens.neurons, transform=stim_tf, synapse=tau)\n",
    "        else:\n",
    "            for ix, tau_i in enumerate(taus):\n",
    "                stim_tf = E.dot(tau_i * B_full)[ix, :][None, :]\n",
    "                nengo.Connection(stim, ens.neurons[ix], transform=stim_tf, synapse=tau_i)\n",
    "\n",
    "        # Recurrent connection\n",
    "        if not hetero_tau:\n",
    "            W = E.dot((tau * A_full + np.eye(ldn.q * size_in)).dot(D))\n",
    "            nengo.Connection(ens.neurons, ens.neurons, transform=W, synapse=tau)\n",
    "            # bio.Connection(ens, ens, transform=W)\n",
    "        else:\n",
    "            for ix, tau_i in enumerate(taus):\n",
    "                W = E.dot((tau_i * A_full + np.eye(ldn.q * size_in)).dot(D))[ix, :][None, :]\n",
    "                nengo.Connection(ens.neurons, ens.neurons[ix], transform=W, synapse=tau_i)\n",
    "\n",
    "        output = nengo.Node(None, size_in=1)\n",
    "        if out_transform is None:\n",
    "            out_transform = np.ones((1, ens.n_neurons))\n",
    "        nengo.Connection(ens.neurons, output,\n",
    "                         transform=out_transform)\n",
    "\n",
    "        # Sim the 'ideal' signal.\n",
    "        ideal = nengo.Node(dms.ideal_signal)\n",
    "\n",
    "        # Capture the output\n",
    "        probes = {\n",
    "            'ensemble': nengo.Probe(ens.neurons),\n",
    "            'output': nengo.Probe(output),\n",
    "            'ideal': nengo.Probe(ideal)\n",
    "        }\n",
    "    \n",
    "    return model, probes\n"
   ]
  },
  {
   "cell_type": "markdown",
   "metadata": {},
   "source": [
    "### Offline Training"
   ]
  },
  {
   "cell_type": "code",
   "execution_count": null,
   "metadata": {},
   "outputs": [
    {
     "data": {
      "application/vdom.v1+json": {
       "attributes": {},
       "tagName": "div"
      },
      "text/html": [
       "\n",
       "                <script>\n",
       "                    if (Jupyter.version.split(\".\")[0] < 5) {\n",
       "                        var pb = document.getElementById(\"9d30a466-fa03-434a-8b3b-84737a10fa8f\");\n",
       "                        var text = document.createTextNode(\n",
       "                            \"HMTL progress bar requires Jupyter Notebook >= \" +\n",
       "                            \"5.0 or Jupyter Lab. Alternatively, you can use \" +\n",
       "                            \"TerminalProgressBar().\");\n",
       "                        pb.parentNode.insertBefore(text, pb);\n",
       "                    }\n",
       "                </script>\n",
       "                <div id=\"9d30a466-fa03-434a-8b3b-84737a10fa8f\" style=\"\n",
       "                    width: 100%;\n",
       "                    border: 1px solid #cfcfcf;\n",
       "                    border-radius: 4px;\n",
       "                    text-align: center;\n",
       "                    position: relative;\">\n",
       "                  <div class=\"pb-text\" style=\"\n",
       "                      position: absolute;\n",
       "                      width: 100%;\">\n",
       "                    0%\n",
       "                  </div>\n",
       "                  <div class=\"pb-fill\" style=\"\n",
       "                      background-color: #bdd2e6;\n",
       "                      width: 0%;\">\n",
       "                    <style type=\"text/css\" scoped=\"scoped\">\n",
       "                        @keyframes pb-fill-anim {\n",
       "                            0% { background-position: 0 0; }\n",
       "                            100% { background-position: 100px 0; }\n",
       "                        }\n",
       "                    </style>\n",
       "                    &nbsp;\n",
       "                  </div>\n",
       "                </div>"
      ],
      "text/plain": [
       "HtmlProgressBar cannot be displayed. Please use the TerminalProgressBar. It can be enabled with `nengo.rc.set('progress', 'progress_bar', 'nengo.utils.progress.TerminalProgressBar')`."
      ]
     },
     "metadata": {},
     "output_type": "display_data"
    },
    {
     "data": {
      "application/vdom.v1+json": {
       "attributes": {
        "id": "67305480-d31f-495f-afd3-4c677bc67de2",
        "style": {
         "border": "1px solid #cfcfcf",
         "borderRadius": "4px",
         "boxSizing": "border-box",
         "position": "relative",
         "textAlign": "center",
         "width": "100%"
        }
       },
       "children": [
        {
         "attributes": {
          "class": "pb-text",
          "style": {
           "position": "absolute",
           "width": "100%"
          }
         },
         "children": [
          "Build finished in 0:00:01."
         ],
         "tagName": "div"
        },
        {
         "attributes": {
          "class": "pb-fill",
          "style": {
           "animation": "none",
           "backgroundColor": "#bdd2e6",
           "backgroundImage": "none",
           "backgroundSize": "100px 100%",
           "width": "100%"
          }
         },
         "children": [
          {
           "attributes": {
            "scoped": "scoped",
            "type": "text/css"
           },
           "children": [
            "\n                        @keyframes pb-fill-anim {\n                            0% { background-position: 0 0; }\n                            100% { background-position: 100px 0; }\n                        }}"
           ],
           "tagName": "style"
          },
          " "
         ],
         "tagName": "div"
        }
       ],
       "tagName": "div"
      },
      "text/html": [
       "<script>\n",
       "              (function () {\n",
       "                  var root = document.getElementById('9d30a466-fa03-434a-8b3b-84737a10fa8f');\n",
       "                  var text = root.getElementsByClassName('pb-text')[0];\n",
       "                  var fill = root.getElementsByClassName('pb-fill')[0];\n",
       "\n",
       "                  text.innerHTML = 'Build finished in 0:00:01.';\n",
       "                  \n",
       "            fill.style.width = '100%';\n",
       "            fill.style.animation = 'pb-fill-anim 2s linear infinite';\n",
       "            fill.style.backgroundSize = '100px 100%';\n",
       "            fill.style.backgroundImage = 'repeating-linear-gradient(' +\n",
       "                '90deg, #bdd2e6, #edf2f8 40%, #bdd2e6 80%, #bdd2e6)';\n",
       "        \n",
       "                  \n",
       "                fill.style.animation = 'none';\n",
       "                fill.style.backgroundImage = 'none';\n",
       "            \n",
       "              })();\n",
       "        </script>"
      ]
     },
     "metadata": {},
     "output_type": "display_data"
    },
    {
     "name": "stderr",
     "output_type": "stream",
     "text": [
      "/home/chad/miniconda3/envs/srnn_pfc/lib/python3.7/site-packages/nengo/neurons.py:438: RuntimeWarning: divide by zero encountered in log1p\n",
      "  self.tau_ref - self.tau_rc * np.log1p(1.0 / (gain * (intercepts - 1) - 1))\n"
     ]
    },
    {
     "data": {
      "application/vdom.v1+json": {
       "attributes": {},
       "tagName": "div"
      },
      "text/html": [
       "\n",
       "                <script>\n",
       "                    if (Jupyter.version.split(\".\")[0] < 5) {\n",
       "                        var pb = document.getElementById(\"6248576a-a699-46f2-8c96-861d74f0ed26\");\n",
       "                        var text = document.createTextNode(\n",
       "                            \"HMTL progress bar requires Jupyter Notebook >= \" +\n",
       "                            \"5.0 or Jupyter Lab. Alternatively, you can use \" +\n",
       "                            \"TerminalProgressBar().\");\n",
       "                        pb.parentNode.insertBefore(text, pb);\n",
       "                    }\n",
       "                </script>\n",
       "                <div id=\"6248576a-a699-46f2-8c96-861d74f0ed26\" style=\"\n",
       "                    width: 100%;\n",
       "                    border: 1px solid #cfcfcf;\n",
       "                    border-radius: 4px;\n",
       "                    text-align: center;\n",
       "                    position: relative;\">\n",
       "                  <div class=\"pb-text\" style=\"\n",
       "                      position: absolute;\n",
       "                      width: 100%;\">\n",
       "                    0%\n",
       "                  </div>\n",
       "                  <div class=\"pb-fill\" style=\"\n",
       "                      background-color: #bdd2e6;\n",
       "                      width: 0%;\">\n",
       "                    <style type=\"text/css\" scoped=\"scoped\">\n",
       "                        @keyframes pb-fill-anim {\n",
       "                            0% { background-position: 0 0; }\n",
       "                            100% { background-position: 100px 0; }\n",
       "                        }\n",
       "                    </style>\n",
       "                    &nbsp;\n",
       "                  </div>\n",
       "                </div>"
      ],
      "text/plain": [
       "HtmlProgressBar cannot be displayed. Please use the TerminalProgressBar. It can be enabled with `nengo.rc.set('progress', 'progress_bar', 'nengo.utils.progress.TerminalProgressBar')`."
      ]
     },
     "metadata": {},
     "output_type": "display_data"
    },
    {
     "data": {
      "application/vdom.v1+json": {
       "attributes": {
        "id": "ff5cca30-9ecc-458d-9a97-80174ec36d3e",
        "style": {
         "border": "1px solid #cfcfcf",
         "borderRadius": "4px",
         "boxSizing": "border-box",
         "position": "relative",
         "textAlign": "center",
         "width": "100%"
        }
       },
       "children": [
        {
         "attributes": {
          "class": "pb-text",
          "style": {
           "position": "absolute",
           "width": "100%"
          }
         },
         "children": [
          "Build finished in 0:00:01."
         ],
         "tagName": "div"
        },
        {
         "attributes": {
          "class": "pb-fill",
          "style": {
           "animation": "none",
           "backgroundColor": "#bdd2e6",
           "backgroundImage": "none",
           "backgroundSize": "100px 100%",
           "width": "100%"
          }
         },
         "children": [
          {
           "attributes": {
            "scoped": "scoped",
            "type": "text/css"
           },
           "children": [
            "\n                        @keyframes pb-fill-anim {\n                            0% { background-position: 0 0; }\n                            100% { background-position: 100px 0; }\n                        }}"
           ],
           "tagName": "style"
          },
          " "
         ],
         "tagName": "div"
        }
       ],
       "tagName": "div"
      },
      "text/html": [
       "<script>\n",
       "              (function () {\n",
       "                  var root = document.getElementById('6248576a-a699-46f2-8c96-861d74f0ed26');\n",
       "                  var text = root.getElementsByClassName('pb-text')[0];\n",
       "                  var fill = root.getElementsByClassName('pb-fill')[0];\n",
       "\n",
       "                  text.innerHTML = 'Build finished in 0:00:01.';\n",
       "                  \n",
       "            fill.style.width = '100%';\n",
       "            fill.style.animation = 'pb-fill-anim 2s linear infinite';\n",
       "            fill.style.backgroundSize = '100px 100%';\n",
       "            fill.style.backgroundImage = 'repeating-linear-gradient(' +\n",
       "                '90deg, #bdd2e6, #edf2f8 40%, #bdd2e6 80%, #bdd2e6)';\n",
       "        \n",
       "                  \n",
       "                fill.style.animation = 'none';\n",
       "                fill.style.backgroundImage = 'none';\n",
       "            \n",
       "              })();\n",
       "        </script>"
      ]
     },
     "metadata": {},
     "output_type": "display_data"
    },
    {
     "data": {
      "application/vdom.v1+json": {
       "attributes": {},
       "tagName": "div"
      },
      "text/html": [
       "\n",
       "                <script>\n",
       "                    if (Jupyter.version.split(\".\")[0] < 5) {\n",
       "                        var pb = document.getElementById(\"1ff8ed58-8aea-4cc9-b3c3-82efb0310df7\");\n",
       "                        var text = document.createTextNode(\n",
       "                            \"HMTL progress bar requires Jupyter Notebook >= \" +\n",
       "                            \"5.0 or Jupyter Lab. Alternatively, you can use \" +\n",
       "                            \"TerminalProgressBar().\");\n",
       "                        pb.parentNode.insertBefore(text, pb);\n",
       "                    }\n",
       "                </script>\n",
       "                <div id=\"1ff8ed58-8aea-4cc9-b3c3-82efb0310df7\" style=\"\n",
       "                    width: 100%;\n",
       "                    border: 1px solid #cfcfcf;\n",
       "                    border-radius: 4px;\n",
       "                    text-align: center;\n",
       "                    position: relative;\">\n",
       "                  <div class=\"pb-text\" style=\"\n",
       "                      position: absolute;\n",
       "                      width: 100%;\">\n",
       "                    0%\n",
       "                  </div>\n",
       "                  <div class=\"pb-fill\" style=\"\n",
       "                      background-color: #bdd2e6;\n",
       "                      width: 0%;\">\n",
       "                    <style type=\"text/css\" scoped=\"scoped\">\n",
       "                        @keyframes pb-fill-anim {\n",
       "                            0% { background-position: 0 0; }\n",
       "                            100% { background-position: 100px 0; }\n",
       "                        }\n",
       "                    </style>\n",
       "                    &nbsp;\n",
       "                  </div>\n",
       "                </div>"
      ],
      "text/plain": [
       "HtmlProgressBar cannot be displayed. Please use the TerminalProgressBar. It can be enabled with `nengo.rc.set('progress', 'progress_bar', 'nengo.utils.progress.TerminalProgressBar')`."
      ]
     },
     "metadata": {},
     "output_type": "display_data"
    },
    {
     "data": {
      "application/vdom.v1+json": {
       "attributes": {
        "id": "b5f34fc2-8e4b-4a98-ad36-6fba6fb59a99",
        "style": {
         "border": "1px solid #cfcfcf",
         "borderRadius": "4px",
         "boxSizing": "border-box",
         "position": "relative",
         "textAlign": "center",
         "width": "100%"
        }
       },
       "children": [
        {
         "attributes": {
          "class": "pb-text",
          "style": {
           "position": "absolute",
           "width": "100%"
          }
         },
         "children": [
          "Simulation finished in 0:09:52."
         ],
         "tagName": "div"
        },
        {
         "attributes": {
          "class": "pb-fill",
          "style": {
           "animation": "none",
           "backgroundColor": "#bdd2e6",
           "backgroundImage": "none",
           "transition": "width 0.1s linear",
           "width": "100%"
          }
         },
         "children": [
          {
           "attributes": {
            "scoped": "scoped",
            "type": "text/css"
           },
           "children": [
            "\n                        @keyframes pb-fill-anim {\n                            0% { background-position: 0 0; }\n                            100% { background-position: 100px 0; }\n                        }}"
           ],
           "tagName": "style"
          },
          " "
         ],
         "tagName": "div"
        }
       ],
       "tagName": "div"
      },
      "text/html": [
       "<script>\n",
       "              (function () {\n",
       "                  var root = document.getElementById('1ff8ed58-8aea-4cc9-b3c3-82efb0310df7');\n",
       "                  var text = root.getElementsByClassName('pb-text')[0];\n",
       "                  var fill = root.getElementsByClassName('pb-fill')[0];\n",
       "\n",
       "                  text.innerHTML = 'Simulation finished in 0:09:52.';\n",
       "                  \n",
       "            if (100.0 > 0.) {\n",
       "                fill.style.transition = 'width 0.1s linear';\n",
       "            } else {\n",
       "                fill.style.transition = 'none';\n",
       "            }\n",
       "\n",
       "            fill.style.width = '100.0%';\n",
       "            fill.style.animation = 'none';\n",
       "            fill.style.backgroundImage = 'none'\n",
       "        \n",
       "                  \n",
       "                fill.style.animation = 'none';\n",
       "                fill.style.backgroundImage = 'none';\n",
       "            \n",
       "              })();\n",
       "        </script>"
      ]
     },
     "metadata": {},
     "output_type": "display_data"
    }
   ],
   "source": [
    "train_per_cond = 3\n",
    "train_seed = 1337\n",
    "model, probes = make_lmu_dms(\n",
    "    n_neurons=2000,\n",
    "    n_trials_per_cond=train_per_cond,\n",
    "    trial_seed=train_seed,\n",
    "    max_rates='uniform_low',\n",
    "    dales_law=True,\n",
    "    hetero_tau=False)  # Setting hetero_tau=True really slows things down.\n",
    "with nengo.Simulator(model) as sim:\n",
    "    sim.run(6 * 16 * test_per_cond)  # 6 seconds per trial, 16 conditions"
   ]
  },
  {
   "cell_type": "code",
   "execution_count": null,
   "metadata": {},
   "outputs": [],
   "source": [
    "filt = nengo.synapses.Lowpass(0.01)\n",
    "A = filt.filt(sim.data[probes['ensemble']])\n",
    "Y = filt.filt(sim.data[probes['ideal']])\n",
    "\n",
    "import nengo.utils.least_squares_solvers as lss\n",
    "D, info = nengo.solvers.LstsqL2(solver=lss.LSMRScipy())(A, Y)"
   ]
  },
  {
   "cell_type": "code",
   "execution_count": null,
   "metadata": {},
   "outputs": [
    {
     "data": {
      "image/png": "[encoded data removed]",
      "text/plain": [
       "<Figure size 432x288 with 1 Axes>"
      ]
     },
     "metadata": {
      "needs_background": "light"
     },
     "output_type": "display_data"
    }
   ],
   "source": [
    "train_tvec = sim.trange()\n",
    "train_decoded = A.dot(D)\n",
    "train_ideal = sim.data[probes['ideal']]\n",
    "\n",
    "plt.plot(train_tvec, train_decoded, label='decoded')\n",
    "plt.plot(train_tvec, train_ideal, label='ideal')\n",
    "plt.legend()\n",
    "plt.xlim([30, 90])\n",
    "plt.show()"
   ]
  },
  {
   "cell_type": "markdown",
   "metadata": {},
   "source": [
    "### Online Testing\n",
    "\n",
    "And let's see how the resulting network generalizes."
   ]
  },
  {
   "cell_type": "code",
   "execution_count": null,
   "metadata": {},
   "outputs": [
    {
     "data": {
      "application/vdom.v1+json": {
       "attributes": {},
       "tagName": "div"
      },
      "text/html": [
       "\n",
       "                <script>\n",
       "                    if (Jupyter.version.split(\".\")[0] < 5) {\n",
       "                        var pb = document.getElementById(\"18428619-7608-42b8-851c-9f7b57835600\");\n",
       "                        var text = document.createTextNode(\n",
       "                            \"HMTL progress bar requires Jupyter Notebook >= \" +\n",
       "                            \"5.0 or Jupyter Lab. Alternatively, you can use \" +\n",
       "                            \"TerminalProgressBar().\");\n",
       "                        pb.parentNode.insertBefore(text, pb);\n",
       "                    }\n",
       "                </script>\n",
       "                <div id=\"18428619-7608-42b8-851c-9f7b57835600\" style=\"\n",
       "                    width: 100%;\n",
       "                    border: 1px solid #cfcfcf;\n",
       "                    border-radius: 4px;\n",
       "                    text-align: center;\n",
       "                    position: relative;\">\n",
       "                  <div class=\"pb-text\" style=\"\n",
       "                      position: absolute;\n",
       "                      width: 100%;\">\n",
       "                    0%\n",
       "                  </div>\n",
       "                  <div class=\"pb-fill\" style=\"\n",
       "                      background-color: #bdd2e6;\n",
       "                      width: 0%;\">\n",
       "                    <style type=\"text/css\" scoped=\"scoped\">\n",
       "                        @keyframes pb-fill-anim {\n",
       "                            0% { background-position: 0 0; }\n",
       "                            100% { background-position: 100px 0; }\n",
       "                        }\n",
       "                    </style>\n",
       "                    &nbsp;\n",
       "                  </div>\n",
       "                </div>"
      ],
      "text/plain": [
       "HtmlProgressBar cannot be displayed. Please use the TerminalProgressBar. It can be enabled with `nengo.rc.set('progress', 'progress_bar', 'nengo.utils.progress.TerminalProgressBar')`."
      ]
     },
     "metadata": {},
     "output_type": "display_data"
    },
    {
     "data": {
      "application/vdom.v1+json": {
       "attributes": {
        "id": "0e68f1c0-ec48-41d2-9fef-dfa6691eb9ed",
        "style": {
         "border": "1px solid #cfcfcf",
         "borderRadius": "4px",
         "boxSizing": "border-box",
         "position": "relative",
         "textAlign": "center",
         "width": "100%"
        }
       },
       "children": [
        {
         "attributes": {
          "class": "pb-text",
          "style": {
           "position": "absolute",
           "width": "100%"
          }
         },
         "children": [
          "Build finished in 0:00:01."
         ],
         "tagName": "div"
        },
        {
         "attributes": {
          "class": "pb-fill",
          "style": {
           "animation": "none",
           "backgroundColor": "#bdd2e6",
           "backgroundImage": "none",
           "backgroundSize": "100px 100%",
           "width": "100%"
          }
         },
         "children": [
          {
           "attributes": {
            "scoped": "scoped",
            "type": "text/css"
           },
           "children": [
            "\n                        @keyframes pb-fill-anim {\n                            0% { background-position: 0 0; }\n                            100% { background-position: 100px 0; }\n                        }}"
           ],
           "tagName": "style"
          },
          " "
         ],
         "tagName": "div"
        }
       ],
       "tagName": "div"
      },
      "text/html": [
       "<script>\n",
       "              (function () {\n",
       "                  var root = document.getElementById('18428619-7608-42b8-851c-9f7b57835600');\n",
       "                  var text = root.getElementsByClassName('pb-text')[0];\n",
       "                  var fill = root.getElementsByClassName('pb-fill')[0];\n",
       "\n",
       "                  text.innerHTML = 'Build finished in 0:00:01.';\n",
       "                  \n",
       "            fill.style.width = '100%';\n",
       "            fill.style.animation = 'pb-fill-anim 2s linear infinite';\n",
       "            fill.style.backgroundSize = '100px 100%';\n",
       "            fill.style.backgroundImage = 'repeating-linear-gradient(' +\n",
       "                '90deg, #bdd2e6, #edf2f8 40%, #bdd2e6 80%, #bdd2e6)';\n",
       "        \n",
       "                  \n",
       "                fill.style.animation = 'none';\n",
       "                fill.style.backgroundImage = 'none';\n",
       "            \n",
       "              })();\n",
       "        </script>"
      ]
     },
     "metadata": {},
     "output_type": "display_data"
    },
    {
     "name": "stderr",
     "output_type": "stream",
     "text": [
      "/home/chad/miniconda3/envs/srnn_pfc/lib/python3.7/site-packages/nengo/neurons.py:438: RuntimeWarning: divide by zero encountered in log1p\n",
      "  self.tau_ref - self.tau_rc * np.log1p(1.0 / (gain * (intercepts - 1) - 1))\n"
     ]
    },
    {
     "data": {
      "application/vdom.v1+json": {
       "attributes": {},
       "tagName": "div"
      },
      "text/html": [
       "\n",
       "                <script>\n",
       "                    if (Jupyter.version.split(\".\")[0] < 5) {\n",
       "                        var pb = document.getElementById(\"92f93b96-7e8c-4e09-9c9c-8f2871c5ac92\");\n",
       "                        var text = document.createTextNode(\n",
       "                            \"HMTL progress bar requires Jupyter Notebook >= \" +\n",
       "                            \"5.0 or Jupyter Lab. Alternatively, you can use \" +\n",
       "                            \"TerminalProgressBar().\");\n",
       "                        pb.parentNode.insertBefore(text, pb);\n",
       "                    }\n",
       "                </script>\n",
       "                <div id=\"92f93b96-7e8c-4e09-9c9c-8f2871c5ac92\" style=\"\n",
       "                    width: 100%;\n",
       "                    border: 1px solid #cfcfcf;\n",
       "                    border-radius: 4px;\n",
       "                    text-align: center;\n",
       "                    position: relative;\">\n",
       "                  <div class=\"pb-text\" style=\"\n",
       "                      position: absolute;\n",
       "                      width: 100%;\">\n",
       "                    0%\n",
       "                  </div>\n",
       "                  <div class=\"pb-fill\" style=\"\n",
       "                      background-color: #bdd2e6;\n",
       "                      width: 0%;\">\n",
       "                    <style type=\"text/css\" scoped=\"scoped\">\n",
       "                        @keyframes pb-fill-anim {\n",
       "                            0% { background-position: 0 0; }\n",
       "                            100% { background-position: 100px 0; }\n",
       "                        }\n",
       "                    </style>\n",
       "                    &nbsp;\n",
       "                  </div>\n",
       "                </div>"
      ],
      "text/plain": [
       "HtmlProgressBar cannot be displayed. Please use the TerminalProgressBar. It can be enabled with `nengo.rc.set('progress', 'progress_bar', 'nengo.utils.progress.TerminalProgressBar')`."
      ]
     },
     "metadata": {},
     "output_type": "display_data"
    },
    {
     "data": {
      "application/vdom.v1+json": {
       "attributes": {
        "id": "d9310360-e953-4817-a313-ac19761b1c53",
        "style": {
         "border": "1px solid #cfcfcf",
         "borderRadius": "4px",
         "boxSizing": "border-box",
         "position": "relative",
         "textAlign": "center",
         "width": "100%"
        }
       },
       "children": [
        {
         "attributes": {
          "class": "pb-text",
          "style": {
           "position": "absolute",
           "width": "100%"
          }
         },
         "children": [
          "Build finished in 0:00:01."
         ],
         "tagName": "div"
        },
        {
         "attributes": {
          "class": "pb-fill",
          "style": {
           "animation": "none",
           "backgroundColor": "#bdd2e6",
           "backgroundImage": "none",
           "backgroundSize": "100px 100%",
           "width": "100%"
          }
         },
         "children": [
          {
           "attributes": {
            "scoped": "scoped",
            "type": "text/css"
           },
           "children": [
            "\n                        @keyframes pb-fill-anim {\n                            0% { background-position: 0 0; }\n                            100% { background-position: 100px 0; }\n                        }}"
           ],
           "tagName": "style"
          },
          " "
         ],
         "tagName": "div"
        }
       ],
       "tagName": "div"
      },
      "text/html": [
       "<script>\n",
       "              (function () {\n",
       "                  var root = document.getElementById('92f93b96-7e8c-4e09-9c9c-8f2871c5ac92');\n",
       "                  var text = root.getElementsByClassName('pb-text')[0];\n",
       "                  var fill = root.getElementsByClassName('pb-fill')[0];\n",
       "\n",
       "                  text.innerHTML = 'Build finished in 0:00:01.';\n",
       "                  \n",
       "            fill.style.width = '100%';\n",
       "            fill.style.animation = 'pb-fill-anim 2s linear infinite';\n",
       "            fill.style.backgroundSize = '100px 100%';\n",
       "            fill.style.backgroundImage = 'repeating-linear-gradient(' +\n",
       "                '90deg, #bdd2e6, #edf2f8 40%, #bdd2e6 80%, #bdd2e6)';\n",
       "        \n",
       "                  \n",
       "                fill.style.animation = 'none';\n",
       "                fill.style.backgroundImage = 'none';\n",
       "            \n",
       "              })();\n",
       "        </script>"
      ]
     },
     "metadata": {},
     "output_type": "display_data"
    },
    {
     "data": {
      "application/vdom.v1+json": {
       "attributes": {},
       "tagName": "div"
      },
      "text/html": [
       "\n",
       "                <script>\n",
       "                    if (Jupyter.version.split(\".\")[0] < 5) {\n",
       "                        var pb = document.getElementById(\"d3da83d8-3ec4-44db-9aee-63a8292dc39e\");\n",
       "                        var text = document.createTextNode(\n",
       "                            \"HMTL progress bar requires Jupyter Notebook >= \" +\n",
       "                            \"5.0 or Jupyter Lab. Alternatively, you can use \" +\n",
       "                            \"TerminalProgressBar().\");\n",
       "                        pb.parentNode.insertBefore(text, pb);\n",
       "                    }\n",
       "                </script>\n",
       "                <div id=\"d3da83d8-3ec4-44db-9aee-63a8292dc39e\" style=\"\n",
       "                    width: 100%;\n",
       "                    border: 1px solid #cfcfcf;\n",
       "                    border-radius: 4px;\n",
       "                    text-align: center;\n",
       "                    position: relative;\">\n",
       "                  <div class=\"pb-text\" style=\"\n",
       "                      position: absolute;\n",
       "                      width: 100%;\">\n",
       "                    0%\n",
       "                  </div>\n",
       "                  <div class=\"pb-fill\" style=\"\n",
       "                      background-color: #bdd2e6;\n",
       "                      width: 0%;\">\n",
       "                    <style type=\"text/css\" scoped=\"scoped\">\n",
       "                        @keyframes pb-fill-anim {\n",
       "                            0% { background-position: 0 0; }\n",
       "                            100% { background-position: 100px 0; }\n",
       "                        }\n",
       "                    </style>\n",
       "                    &nbsp;\n",
       "                  </div>\n",
       "                </div>"
      ],
      "text/plain": [
       "HtmlProgressBar cannot be displayed. Please use the TerminalProgressBar. It can be enabled with `nengo.rc.set('progress', 'progress_bar', 'nengo.utils.progress.TerminalProgressBar')`."
      ]
     },
     "metadata": {},
     "output_type": "display_data"
    },
    {
     "data": {
      "application/vdom.v1+json": {
       "attributes": {
        "id": "bab73ecd-aee7-4596-be81-34502b817453",
        "style": {
         "border": "1px solid #cfcfcf",
         "borderRadius": "4px",
         "boxSizing": "border-box",
         "position": "relative",
         "textAlign": "center",
         "width": "100%"
        }
       },
       "children": [
        {
         "attributes": {
          "class": "pb-text",
          "style": {
           "position": "absolute",
           "width": "100%"
          }
         },
         "children": [
          "Simulation finished in 0:09:31."
         ],
         "tagName": "div"
        },
        {
         "attributes": {
          "class": "pb-fill",
          "style": {
           "animation": "none",
           "backgroundColor": "#bdd2e6",
           "backgroundImage": "none",
           "transition": "width 0.1s linear",
           "width": "100%"
          }
         },
         "children": [
          {
           "attributes": {
            "scoped": "scoped",
            "type": "text/css"
           },
           "children": [
            "\n                        @keyframes pb-fill-anim {\n                            0% { background-position: 0 0; }\n                            100% { background-position: 100px 0; }\n                        }}"
           ],
           "tagName": "style"
          },
          " "
         ],
         "tagName": "div"
        }
       ],
       "tagName": "div"
      },
      "text/html": [
       "<script>\n",
       "              (function () {\n",
       "                  var root = document.getElementById('d3da83d8-3ec4-44db-9aee-63a8292dc39e');\n",
       "                  var text = root.getElementsByClassName('pb-text')[0];\n",
       "                  var fill = root.getElementsByClassName('pb-fill')[0];\n",
       "\n",
       "                  text.innerHTML = 'Simulation finished in 0:09:31.';\n",
       "                  \n",
       "            if (100.0 > 0.) {\n",
       "                fill.style.transition = 'width 0.1s linear';\n",
       "            } else {\n",
       "                fill.style.transition = 'none';\n",
       "            }\n",
       "\n",
       "            fill.style.width = '100.0%';\n",
       "            fill.style.animation = 'none';\n",
       "            fill.style.backgroundImage = 'none'\n",
       "        \n",
       "                  \n",
       "                fill.style.animation = 'none';\n",
       "                fill.style.backgroundImage = 'none';\n",
       "            \n",
       "              })();\n",
       "        </script>"
      ]
     },
     "metadata": {},
     "output_type": "display_data"
    }
   ],
   "source": [
    "test_per_cond = 3\n",
    "test_seed = 1234\n",
    "model, probes = make_lmu_dms(out_transform=D.T,\n",
    "                             n_trials_per_cond=test_per_cond,\n",
    "                             trial_seed=test_seed,\n",
    "                             max_rates='uniform_low')\n",
    "with nengo.Simulator(model) as sim:\n",
    "    sim.run(6 * 16 * test_per_cond)"
   ]
  },
  {
   "cell_type": "code",
   "execution_count": null,
   "metadata": {},
   "outputs": [
    {
     "data": {
      "image/png": "[encoded data removed]",
      "text/plain": [
       "<Figure size 864x432 with 1 Axes>"
      ]
     },
     "metadata": {
      "needs_background": "light"
     },
     "output_type": "display_data"
    }
   ],
   "source": [
    "test_output = filt.filt(sim.data[probes['output']])\n",
    "test_ideal = sim.data[probes['ideal']]\n",
    "test_tvec = sim.trange()\n",
    "\n",
    "tvec = np.hstack((train_tvec, train_tvec[-1] + np.median(np.diff(test_tvec)) + test_tvec))\n",
    "\n",
    "plt.figure(figsize=(12,6))\n",
    "plt.plot(tvec, np.vstack((train_decoded, test_output)))\n",
    "plt.plot(tvec, np.vstack((train_ideal, test_ideal)))\n",
    "plt.axvline(train_tvec[-1], ls='--', color='k')\n",
    "plt.text(train_tvec[-1] - 45, 1.15, 'TRAINING', ha='center')\n",
    "plt.text(train_tvec[-1] + 45, 1.15, 'TESTING', ha='center')\n",
    "plt.xlim(train_tvec[-1] - 90, train_tvec[-1] + 90)\n",
    "plt.show()"
   ]
  },
  {
   "cell_type": "markdown",
   "metadata": {},
   "source": [
    "That's quite good! In the next notebook we look at how hyperparameters (especially tau and n_neurons) affect the model performance.\n",
    "\n",
    "We should also consider whether we need to adjust the radius of the ensemble, to make sure aren't going outside that range.  \n",
    "\n",
    "We could also look at adjusting the task the network needs to compute a bit. In this case, the network is trying to learn everything about the task, including when to produce the answer. For example, if some other (hand-designed) network was responsible for gating the output so that it only responds when it is supposed to, then we could adjust the training to only the points where the output is given (i.e. it's just trying to match the +1 and -1 outputs, not also trying to produce 0 the rest of the time). This should be easier to do."
   ]
  }
 ],
 "metadata": {
  "kernelspec": {
   "display_name": "Python 3",
   "language": "python",
   "name": "python3"
  }
 },
 "nbformat": 4,
 "nbformat_minor": 4
}
