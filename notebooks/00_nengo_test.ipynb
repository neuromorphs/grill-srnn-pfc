{
 "cells": [
  {
   "cell_type": "markdown",
   "metadata": {},
   "source": [
    "# 00 - Nengo Test\n",
    "\n",
    "This notebook follows the tutorial from Nengo Summer School - [Lecture 5](https://www.youtube.com/watch?v=UN3tKSuno1k). This implements a SNN to produce a motor velocity toward food location when fear <= 0 else toward 0,0. This is perhaps more complicated than what we will do in other notebooks.\n",
    "\n",
    "<table class=\"tfo-notebook-buttons\" align=\"left\">\n",
    "  <td>\n",
    "    <a target=\"_blank\" href=\"https://colab.research.google.com/github/neuromorphs/grill-srnn-pfc/blob/master/notebooks/00_nengo_test.ipynb\"><img src=\"https://www.tensorflow.org/images/colab_logo_32px.png\" />Run in Google Colab</a>\n",
    "  </td>\n",
    "  <td>\n",
    "    <a target=\"_blank\" href=\"https://github.com/neuromorphs/grill-srnn-pfc/blob/master/notebooks/00_nengo_test.ipynb\"><img src=\"https://www.tensorflow.org/images/GitHub-Mark-32px.png\" />View source on GitHub</a>\n",
    "  </td>\n",
    "</table>"
   ]
  },
  {
   "cell_type": "code",
   "execution_count": null,
   "metadata": {},
   "outputs": [],
   "source": [
    "#@title Environment Setup\n",
    "try:\n",
    "    # See if we are running on google.colab\n",
    "    from google.colab import files\n",
    "    IN_COLAB = True\n",
    "    !pip install nengo git+https://github.com/neuromorphs/grill-srnn-pfc.git \n",
    "    # TODO: kaggle creds for downloading data \n",
    "    \n",
    "except ModuleNotFoundError:\n",
    "    IN_COLAB = False\n",
    "\n",
    "%load_ext autoreload\n",
    "%autoreload 2"
   ]
  },
  {
   "cell_type": "markdown",
   "metadata": {},
   "source": [
    "The following model is nearly functionally identical to the model in the summer school video linked above. One tweak is that the fight-or-flight velocity in `home_func` is scaled to make it invariant to the distance from the origin.\n",
    "\n",
    "The API used to build the model is quite different. Here we use the principles laid out in the Nengo documentation on [Designing networks](https://www.nengo.ai/nengo/examples/usage/network-design.html) to build a reusable model."
   ]
  },
  {
   "cell_type": "code",
   "execution_count": null,
   "metadata": {},
   "outputs": [],
   "source": [
    "import nengo\n",
    "import numpy as np\n",
    "\n",
    "class Critter(nengo.Network):\n",
    "    def __init__(self, base_neurons=50, tau=0.1):\n",
    "        # Inputs - need to be wired later by nengo.Node\n",
    "        # Current representation of food location; x, y.\n",
    "        self.food = nengo.Ensemble(n_neurons=2*base_neurons, dimensions=2,\n",
    "                                   label='food')\n",
    "        # Current representation of fear\n",
    "        self.fear = nengo.Ensemble(n_neurons=base_neurons, dimensions=1, label='fear')\n",
    "        \n",
    "        # Combined representation of food and fear\n",
    "        self.do_food = nengo.Ensemble(n_neurons=6*base_neurons, dimensions=3, label='do_food')\n",
    "        nengo.Connection(self.fear, self.do_food[0])\n",
    "        nengo.Connection(self.food, self.do_food[1:])\n",
    "        \n",
    "        # Representation of current motor commands\n",
    "        self.motor = nengo.Ensemble(n_neurons=2*base_neurons, dimensions=2, label='motor')\n",
    "        # food contribution to motor 0 if fear > 0 else food_xy\n",
    "        nengo.Connection(self.do_food, self.motor,\n",
    "                         function=lambda x: (0, 0) if x[0] > 0 else x[1:])\n",
    "        \n",
    "        # Representation of current position\n",
    "        self.pos = nengo.Ensemble(n_neurons=10*base_neurons, dimensions=2, radius=1, label='pos')\n",
    "        # Recurrent connection --> Integrator\n",
    "        nengo.Connection(self.pos, self.pos, synapse=tau)\n",
    "        # Position is updated based on current motor command\n",
    "        nengo.Connection(self.motor, self.pos, synapse=tau, transform=0.1)\n",
    "        \n",
    "        # Representation of flight response - combination of fear and current location\n",
    "        self.do_home = nengo.Ensemble(n_neurons=6*base_neurons, dimensions=3, label='do_home')\n",
    "        nengo.Connection(self.fear, self.do_home[0])\n",
    "        nengo.Connection(self.pos, self.do_home[1:])\n",
    "        # If fear > 0, return home at constant velocity.\n",
    "        def home_func(x, speed=2):\n",
    "            fear, pos_x, pos_y = x\n",
    "            if fear > 0:\n",
    "                vel = -speed / (np.sqrt(pos_x**2 + pos_y**2) + 1e-10)\n",
    "                return vel * pos_x, vel * pos_y\n",
    "            else:\n",
    "                return 0, 0\n",
    "        nengo.Connection(self.do_home, self.motor, function=home_func)"
   ]
  },
  {
   "cell_type": "markdown",
   "metadata": {},
   "source": [
    "## Interactive Model\n",
    "\n",
    "Here we make the interactive form of the model.\n",
    "\n",
    "Right click on the `stim_` nodes to add sliders, and right click on the 2-dimension ensembles and add x,y plots. Then run the model. While running, play with the sliders."
   ]
  },
  {
   "cell_type": "code",
   "execution_count": null,
   "metadata": {},
   "outputs": [
    {
     "data": {
      "text/html": [
       "\n",
       "            <script type=\"text/javascript\" id=\"47bcd25e-5a57-4ee4-ad7a-e70607ba5cf2\">\n",
       "            {\n",
       "                let req = new XMLHttpRequest();\n",
       "                req.addEventListener(\"load\", function() {\n",
       "                    if (this.status != 200 && this.response != 'OK') {\n",
       "                        let p = document.getElementById('47bcd25e-5a57-4ee4-ad7a-e70607ba5cf2').parentNode;\n",
       "                        p.innerHTML +=\n",
       "                            'The nengo_gui.jupyter notebook server ' +\n",
       "                            'extension was not loaded. Please activate it ' +\n",
       "                            'with the following command:' +\n",
       "                            '<pre>jupyter serverextension enable ' +\n",
       "                            'nengo_gui.jupyter</pre>';\n",
       "                        p.classList.add('output_stderr');\n",
       "                    }\n",
       "                });\n",
       "                req.open('GET', './nengo/check', true);\n",
       "                req.send();\n",
       "            }\n",
       "            </script>\n",
       "        "
      ],
      "text/plain": [
       "<IPython.core.display.HTML object>"
      ]
     },
     "metadata": {},
     "output_type": "display_data"
    },
    {
     "data": {
      "application/vdom.v1+json": {
       "attributes": {
        "id": "8224c9ca-8b01-4caa-b902-bf8b793d72ad"
       },
       "children": [
        {
         "attributes": {
          "allowfullscreen": "allowfullscreen",
          "class": "cell",
          "frameborder": "0",
          "height": "600",
          "src": "./nengo/58145/?token=2e120fd6d503aa1a0101dd5d9870ae629ae6bd9ddbf02b8a",
          "style": {
           "border": "1px solid #eee",
           "boxSizing": "border-box"
          },
          "width": "100%"
         },
         "tagName": "iframe"
        }
       ],
       "tagName": "div"
      },
      "text/html": [
       "\n",
       "                <div id=\"d6fe105a-9dd5-4f69-8362-1aa7e992fa28\">\n",
       "                    <iframe\n",
       "                        src=\"./nengo/58145/?token=2e120fd6d503aa1a0101dd5d9870ae629ae6bd9ddbf02b8a\"\n",
       "                        width=\"100%\"\n",
       "                        height=\"600\"\n",
       "                        frameborder=\"0\"\n",
       "                        class=\"cell\"\n",
       "                        style=\"border: 1px solid #eee; box-sizing: border-box;\"\n",
       "                        allowfullscreen></iframe>\n",
       "                </div>\n",
       "            "
      ]
     },
     "metadata": {},
     "output_type": "display_data"
    }
   ],
   "source": [
    "#Nengo GUI visualizer for visualizing the network\n",
    "from nengo_gui.ipython import IPythonViz\n",
    "\n",
    "def critter_interactive(stim_food=[0, 0], stim_fear=-1):\n",
    "    with nengo.Network() as net:\n",
    "        net.critter = Critter()\n",
    "        net.food_node = nengo.Node(output=stim_food, label='stim_food')\n",
    "        nengo.Connection(net.food_node, net.critter.food)\n",
    "        net.fear_node = nengo.Node(output=stim_fear, label='stim_fear')\n",
    "        nengo.Connection(net.fear_node, net.critter.fear)\n",
    "    return net\n",
    "\n",
    "inet = critter_interactive()\n",
    "IPythonViz(inet)"
   ]
  },
  {
   "cell_type": "markdown",
   "metadata": {},
   "source": [
    "## Non-interactive Form"
   ]
  },
  {
   "cell_type": "code",
   "execution_count": null,
   "metadata": {},
   "outputs": [
    {
     "data": {
      "application/vdom.v1+json": {
       "attributes": {},
       "tagName": "div"
      },
      "text/html": [
       "\n",
       "                <script>\n",
       "                    if (Jupyter.version.split(\".\")[0] < 5) {\n",
       "                        var pb = document.getElementById(\"0ffce70a-8fc8-4360-94f8-38c92e97e505\");\n",
       "                        var text = document.createTextNode(\n",
       "                            \"HMTL progress bar requires Jupyter Notebook >= \" +\n",
       "                            \"5.0 or Jupyter Lab. Alternatively, you can use \" +\n",
       "                            \"TerminalProgressBar().\");\n",
       "                        pb.parentNode.insertBefore(text, pb);\n",
       "                    }\n",
       "                </script>\n",
       "                <div id=\"0ffce70a-8fc8-4360-94f8-38c92e97e505\" style=\"\n",
       "                    width: 100%;\n",
       "                    border: 1px solid #cfcfcf;\n",
       "                    border-radius: 4px;\n",
       "                    text-align: center;\n",
       "                    position: relative;\">\n",
       "                  <div class=\"pb-text\" style=\"\n",
       "                      position: absolute;\n",
       "                      width: 100%;\">\n",
       "                    0%\n",
       "                  </div>\n",
       "                  <div class=\"pb-fill\" style=\"\n",
       "                      background-color: #bdd2e6;\n",
       "                      width: 0%;\">\n",
       "                    <style type=\"text/css\" scoped=\"scoped\">\n",
       "                        @keyframes pb-fill-anim {\n",
       "                            0% { background-position: 0 0; }\n",
       "                            100% { background-position: 100px 0; }\n",
       "                        }\n",
       "                    </style>\n",
       "                    &nbsp;\n",
       "                  </div>\n",
       "                </div>"
      ],
      "text/plain": [
       "HtmlProgressBar cannot be displayed. Please use the TerminalProgressBar. It can be enabled with `nengo.rc.set('progress', 'progress_bar', 'nengo.utils.progress.TerminalProgressBar')`."
      ]
     },
     "metadata": {},
     "output_type": "display_data"
    },
    {
     "data": {
      "application/vdom.v1+json": {
       "attributes": {
        "id": "91ab9bc0-9b04-4660-bc83-2bc8db4e1ecb",
        "style": {
         "border": "1px solid #cfcfcf",
         "borderRadius": "4px",
         "boxSizing": "border-box",
         "position": "relative",
         "textAlign": "center",
         "width": "100%"
        }
       },
       "children": [
        {
         "attributes": {
          "class": "pb-text",
          "style": {
           "position": "absolute",
           "width": "100%"
          }
         },
         "children": [
          "Build finished in 0:00:01."
         ],
         "tagName": "div"
        },
        {
         "attributes": {
          "class": "pb-fill",
          "style": {
           "animation": "none",
           "backgroundColor": "#bdd2e6",
           "backgroundImage": "none",
           "backgroundSize": "100px 100%",
           "width": "100%"
          }
         },
         "children": [
          {
           "attributes": {
            "scoped": "scoped",
            "type": "text/css"
           },
           "children": [
            "\n                        @keyframes pb-fill-anim {\n                            0% { background-position: 0 0; }\n                            100% { background-position: 100px 0; }\n                        }}"
           ],
           "tagName": "style"
          },
          " "
         ],
         "tagName": "div"
        }
       ],
       "tagName": "div"
      },
      "text/html": [
       "<script>\n",
       "              (function () {\n",
       "                  var root = document.getElementById('0ffce70a-8fc8-4360-94f8-38c92e97e505');\n",
       "                  var text = root.getElementsByClassName('pb-text')[0];\n",
       "                  var fill = root.getElementsByClassName('pb-fill')[0];\n",
       "\n",
       "                  text.innerHTML = 'Build finished in 0:00:01.';\n",
       "                  \n",
       "            fill.style.width = '100%';\n",
       "            fill.style.animation = 'pb-fill-anim 2s linear infinite';\n",
       "            fill.style.backgroundSize = '100px 100%';\n",
       "            fill.style.backgroundImage = 'repeating-linear-gradient(' +\n",
       "                '90deg, #bdd2e6, #edf2f8 40%, #bdd2e6 80%, #bdd2e6)';\n",
       "        \n",
       "                  \n",
       "                fill.style.animation = 'none';\n",
       "                fill.style.backgroundImage = 'none';\n",
       "            \n",
       "              })();\n",
       "        </script>"
      ]
     },
     "metadata": {},
     "output_type": "display_data"
    },
    {
     "data": {
      "application/vdom.v1+json": {
       "attributes": {},
       "tagName": "div"
      },
      "text/html": [
       "\n",
       "                <script>\n",
       "                    if (Jupyter.version.split(\".\")[0] < 5) {\n",
       "                        var pb = document.getElementById(\"487474cc-1bf6-4a77-8ed5-2c29eb634836\");\n",
       "                        var text = document.createTextNode(\n",
       "                            \"HMTL progress bar requires Jupyter Notebook >= \" +\n",
       "                            \"5.0 or Jupyter Lab. Alternatively, you can use \" +\n",
       "                            \"TerminalProgressBar().\");\n",
       "                        pb.parentNode.insertBefore(text, pb);\n",
       "                    }\n",
       "                </script>\n",
       "                <div id=\"487474cc-1bf6-4a77-8ed5-2c29eb634836\" style=\"\n",
       "                    width: 100%;\n",
       "                    border: 1px solid #cfcfcf;\n",
       "                    border-radius: 4px;\n",
       "                    text-align: center;\n",
       "                    position: relative;\">\n",
       "                  <div class=\"pb-text\" style=\"\n",
       "                      position: absolute;\n",
       "                      width: 100%;\">\n",
       "                    0%\n",
       "                  </div>\n",
       "                  <div class=\"pb-fill\" style=\"\n",
       "                      background-color: #bdd2e6;\n",
       "                      width: 0%;\">\n",
       "                    <style type=\"text/css\" scoped=\"scoped\">\n",
       "                        @keyframes pb-fill-anim {\n",
       "                            0% { background-position: 0 0; }\n",
       "                            100% { background-position: 100px 0; }\n",
       "                        }\n",
       "                    </style>\n",
       "                    &nbsp;\n",
       "                  </div>\n",
       "                </div>"
      ],
      "text/plain": [
       "HtmlProgressBar cannot be displayed. Please use the TerminalProgressBar. It can be enabled with `nengo.rc.set('progress', 'progress_bar', 'nengo.utils.progress.TerminalProgressBar')`."
      ]
     },
     "metadata": {},
     "output_type": "display_data"
    },
    {
     "data": {
      "application/vdom.v1+json": {
       "attributes": {
        "id": "261f8dae-bddc-4fef-a530-3c69f2972515",
        "style": {
         "border": "1px solid #cfcfcf",
         "borderRadius": "4px",
         "boxSizing": "border-box",
         "position": "relative",
         "textAlign": "center",
         "width": "100%"
        }
       },
       "children": [
        {
         "attributes": {
          "class": "pb-text",
          "style": {
           "position": "absolute",
           "width": "100%"
          }
         },
         "children": [
          "Simulation finished in 0:00:06."
         ],
         "tagName": "div"
        },
        {
         "attributes": {
          "class": "pb-fill",
          "style": {
           "animation": "none",
           "backgroundColor": "#bdd2e6",
           "backgroundImage": "none",
           "transition": "width 0.1s linear",
           "width": "100%"
          }
         },
         "children": [
          {
           "attributes": {
            "scoped": "scoped",
            "type": "text/css"
           },
           "children": [
            "\n                        @keyframes pb-fill-anim {\n                            0% { background-position: 0 0; }\n                            100% { background-position: 100px 0; }\n                        }}"
           ],
           "tagName": "style"
          },
          " "
         ],
         "tagName": "div"
        }
       ],
       "tagName": "div"
      },
      "text/html": [
       "<script>\n",
       "              (function () {\n",
       "                  var root = document.getElementById('487474cc-1bf6-4a77-8ed5-2c29eb634836');\n",
       "                  var text = root.getElementsByClassName('pb-text')[0];\n",
       "                  var fill = root.getElementsByClassName('pb-fill')[0];\n",
       "\n",
       "                  text.innerHTML = 'Simulation finished in 0:00:06.';\n",
       "                  \n",
       "            if (100.0 > 0.) {\n",
       "                fill.style.transition = 'width 0.1s linear';\n",
       "            } else {\n",
       "                fill.style.transition = 'none';\n",
       "            }\n",
       "\n",
       "            fill.style.width = '100.0%';\n",
       "            fill.style.animation = 'none';\n",
       "            fill.style.backgroundImage = 'none'\n",
       "        \n",
       "                  \n",
       "                fill.style.animation = 'none';\n",
       "                fill.style.backgroundImage = 'none';\n",
       "            \n",
       "              })();\n",
       "        </script>"
      ]
     },
     "metadata": {},
     "output_type": "display_data"
    },
    {
     "data": {
      "image/png": "[encoded data removed]",
      "text/plain": [
       "<Figure size 576x432 with 4 Axes>"
      ]
     },
     "metadata": {
      "needs_background": "light"
     },
     "output_type": "display_data"
    }
   ],
   "source": [
    "from nengo.processes import Piecewise, PresentInput\n",
    "import matplotlib.pyplot as plt\n",
    "\n",
    "\n",
    "def test_critter(net, sim_time=6):\n",
    "    with net:\n",
    "        critter = Critter()\n",
    "        food_process = PresentInput([[0.8, 0.5], [-0.8, 0.5], [-0.8, -0.6]],\n",
    "                                    presentation_time=1.3)\n",
    "        food_inp = nengo.Node(food_process)\n",
    "        nengo.Connection(food_inp, critter.food)\n",
    "        fear_process = PresentInput([[-1], [1.0]], presentation_time=2.2)\n",
    "        # fear_process = Piecewise({0: -1, 0.7: 0.5, 1: -1, 1.7: 1.0, 2.6: -1.0})\n",
    "        fear_inp = nengo.Node(fear_process)\n",
    "        nengo.Connection(fear_inp, critter.fear)\n",
    "        \n",
    "        food_p = nengo.Probe(critter.food)\n",
    "        fear_p = nengo.Probe(critter.fear)\n",
    "        do_food_p = nengo.Probe(critter.do_food)\n",
    "        motor_p = nengo.Probe(critter.motor)\n",
    "        pos_p = nengo.Probe(critter.pos)\n",
    "        do_home_p = nengo.Probe(critter.do_home)\n",
    "    \n",
    "    with nengo.Simulator(net) as sim:\n",
    "        sim.run(sim_time)\n",
    "    t = sim.trange()\n",
    "    \n",
    "    ylims = [-2.0, 2.0]\n",
    "    plt.figure(figsize=(8, 6))\n",
    "    plt.subplot(2, 2, 1)\n",
    "    plt.plot(t, sim.data[food_p])\n",
    "    plt.ylim(ylims)\n",
    "    plt.ylabel('Food Loc.')\n",
    "    plt.subplot(2, 2, 2)\n",
    "    plt.plot(t, sim.data[fear_p])\n",
    "    plt.ylim(ylims)\n",
    "    plt.ylabel('Fear')\n",
    "    plt.subplot(2, 2, 3)\n",
    "    plt.plot(t, sim.data[motor_p])\n",
    "    plt.ylim(ylims)\n",
    "    plt.ylabel('Motor')\n",
    "    plt.subplot(2, 2, 4)\n",
    "    plt.plot(t, sim.data[pos_p])\n",
    "    plt.ylim(ylims)\n",
    "    plt.ylabel('Position')\n",
    "    plt.ylim(ylims)\n",
    "    plt.tight_layout()\n",
    "    \n",
    "net = nengo.Network()\n",
    "test_critter(net)"
   ]
  }
 ],
 "metadata": {
  "kernelspec": {
   "display_name": "Python 3",
   "language": "python",
   "name": "python3"
  }
 },
 "nbformat": 4,
 "nbformat_minor": 4
}
