{
 "cells": [
  {
   "cell_type": "markdown",
   "metadata": {},
   "source": [
    "# 07_model_descriptive_statistics"
   ]
  },
  {
   "cell_type": "markdown",
   "metadata": {},
   "source": [
    "## Build model and generate data"
   ]
  },
  {
   "cell_type": "code",
   "execution_count": null,
   "metadata": {},
   "outputs": [],
   "source": [
    "import numpy as np\n",
    "import pyopencl as cl\n",
    "import nengo\n",
    "import nengo_ocl\n",
    "from srnn_pfc.lmu import make_lmu_dms\n"
   ]
  },
  {
   "cell_type": "code",
   "execution_count": null,
   "metadata": {},
   "outputs": [
    {
     "data": {
      "application/vdom.v1+json": {
       "attributes": {},
       "tagName": "div"
      },
      "text/html": [
       "\n",
       "                <script>\n",
       "                    if (Jupyter.version.split(\".\")[0] < 5) {\n",
       "                        var pb = document.getElementById(\"205198a2-d09c-4c3d-9c3b-82ba588ab6ea\");\n",
       "                        var text = document.createTextNode(\n",
       "                            \"HMTL progress bar requires Jupyter Notebook >= \" +\n",
       "                            \"5.0 or Jupyter Lab. Alternatively, you can use \" +\n",
       "                            \"TerminalProgressBar().\");\n",
       "                        pb.parentNode.insertBefore(text, pb);\n",
       "                    }\n",
       "                </script>\n",
       "                <div id=\"205198a2-d09c-4c3d-9c3b-82ba588ab6ea\" style=\"\n",
       "                    width: 100%;\n",
       "                    border: 1px solid #cfcfcf;\n",
       "                    border-radius: 4px;\n",
       "                    text-align: center;\n",
       "                    position: relative;\">\n",
       "                  <div class=\"pb-text\" style=\"\n",
       "                      position: absolute;\n",
       "                      width: 100%;\">\n",
       "                    0%\n",
       "                  </div>\n",
       "                  <div class=\"pb-fill\" style=\"\n",
       "                      background-color: #bdd2e6;\n",
       "                      width: 0%;\">\n",
       "                    <style type=\"text/css\" scoped=\"scoped\">\n",
       "                        @keyframes pb-fill-anim {\n",
       "                            0% { background-position: 0 0; }\n",
       "                            100% { background-position: 100px 0; }\n",
       "                        }\n",
       "                    </style>\n",
       "                    &nbsp;\n",
       "                  </div>\n",
       "                </div>"
      ],
      "text/plain": [
       "HtmlProgressBar cannot be displayed. Please use the TerminalProgressBar. It can be enabled with `nengo.rc.set('progress', 'progress_bar', 'nengo.utils.progress.TerminalProgressBar')`."
      ]
     },
     "metadata": {},
     "output_type": "display_data"
    },
    {
     "data": {
      "application/vdom.v1+json": {
       "attributes": {
        "id": "92fa937c-df5c-4b83-bf04-35b525e2d681",
        "style": {
         "border": "1px solid #cfcfcf",
         "borderRadius": "4px",
         "boxSizing": "border-box",
         "position": "relative",
         "textAlign": "center",
         "width": "100%"
        }
       },
       "children": [
        {
         "attributes": {
          "class": "pb-text",
          "style": {
           "position": "absolute",
           "width": "100%"
          }
         },
         "children": [
          "Build finished in 0:00:01."
         ],
         "tagName": "div"
        },
        {
         "attributes": {
          "class": "pb-fill",
          "style": {
           "animation": "none",
           "backgroundColor": "#bdd2e6",
           "backgroundImage": "none",
           "backgroundSize": "100px 100%",
           "width": "100%"
          }
         },
         "children": [
          {
           "attributes": {
            "scoped": "scoped",
            "type": "text/css"
           },
           "children": [
            "\n                        @keyframes pb-fill-anim {\n                            0% { background-position: 0 0; }\n                            100% { background-position: 100px 0; }\n                        }}"
           ],
           "tagName": "style"
          },
          " "
         ],
         "tagName": "div"
        }
       ],
       "tagName": "div"
      },
      "text/html": [
       "<script>\n",
       "              (function () {\n",
       "                  var root = document.getElementById('205198a2-d09c-4c3d-9c3b-82ba588ab6ea');\n",
       "                  var text = root.getElementsByClassName('pb-text')[0];\n",
       "                  var fill = root.getElementsByClassName('pb-fill')[0];\n",
       "\n",
       "                  text.innerHTML = 'Build finished in 0:00:01.';\n",
       "                  \n",
       "            fill.style.width = '100%';\n",
       "            fill.style.animation = 'pb-fill-anim 2s linear infinite';\n",
       "            fill.style.backgroundSize = '100px 100%';\n",
       "            fill.style.backgroundImage = 'repeating-linear-gradient(' +\n",
       "                '90deg, #bdd2e6, #edf2f8 40%, #bdd2e6 80%, #bdd2e6)';\n",
       "        \n",
       "                  \n",
       "                fill.style.animation = 'none';\n",
       "                fill.style.backgroundImage = 'none';\n",
       "            \n",
       "              })();\n",
       "        </script>"
      ]
     },
     "metadata": {},
     "output_type": "display_data"
    },
    {
     "name": "stderr",
     "output_type": "stream",
     "text": [
      "/home/chad/miniconda3/envs/srnn_pfc/lib/python3.7/site-packages/nengo/neurons.py:438: RuntimeWarning: divide by zero encountered in log1p\n",
      "  self.tau_ref - self.tau_rc * np.log1p(1.0 / (gain * (intercepts - 1) - 1))\n"
     ]
    },
    {
     "data": {
      "application/vdom.v1+json": {
       "attributes": {},
       "tagName": "div"
      },
      "text/html": [
       "\n",
       "                <script>\n",
       "                    if (Jupyter.version.split(\".\")[0] < 5) {\n",
       "                        var pb = document.getElementById(\"ea7e3abe-443d-4ef7-96c1-c6d5551e6bcf\");\n",
       "                        var text = document.createTextNode(\n",
       "                            \"HMTL progress bar requires Jupyter Notebook >= \" +\n",
       "                            \"5.0 or Jupyter Lab. Alternatively, you can use \" +\n",
       "                            \"TerminalProgressBar().\");\n",
       "                        pb.parentNode.insertBefore(text, pb);\n",
       "                    }\n",
       "                </script>\n",
       "                <div id=\"ea7e3abe-443d-4ef7-96c1-c6d5551e6bcf\" style=\"\n",
       "                    width: 100%;\n",
       "                    border: 1px solid #cfcfcf;\n",
       "                    border-radius: 4px;\n",
       "                    text-align: center;\n",
       "                    position: relative;\">\n",
       "                  <div class=\"pb-text\" style=\"\n",
       "                      position: absolute;\n",
       "                      width: 100%;\">\n",
       "                    0%\n",
       "                  </div>\n",
       "                  <div class=\"pb-fill\" style=\"\n",
       "                      background-color: #bdd2e6;\n",
       "                      width: 0%;\">\n",
       "                    <style type=\"text/css\" scoped=\"scoped\">\n",
       "                        @keyframes pb-fill-anim {\n",
       "                            0% { background-position: 0 0; }\n",
       "                            100% { background-position: 100px 0; }\n",
       "                        }\n",
       "                    </style>\n",
       "                    &nbsp;\n",
       "                  </div>\n",
       "                </div>"
      ],
      "text/plain": [
       "HtmlProgressBar cannot be displayed. Please use the TerminalProgressBar. It can be enabled with `nengo.rc.set('progress', 'progress_bar', 'nengo.utils.progress.TerminalProgressBar')`."
      ]
     },
     "metadata": {},
     "output_type": "display_data"
    },
    {
     "data": {
      "application/vdom.v1+json": {
       "attributes": {
        "id": "c15c9102-635e-4e9a-8207-e0385b2bea83",
        "style": {
         "border": "1px solid #cfcfcf",
         "borderRadius": "4px",
         "boxSizing": "border-box",
         "position": "relative",
         "textAlign": "center",
         "width": "100%"
        }
       },
       "children": [
        {
         "attributes": {
          "class": "pb-text",
          "style": {
           "position": "absolute",
           "width": "100%"
          }
         },
         "children": [
          "Simulation finished in 0:01:51."
         ],
         "tagName": "div"
        },
        {
         "attributes": {
          "class": "pb-fill",
          "style": {
           "animation": "none",
           "backgroundColor": "#bdd2e6",
           "backgroundImage": "none",
           "transition": "width 0.1s linear",
           "width": "100%"
          }
         },
         "children": [
          {
           "attributes": {
            "scoped": "scoped",
            "type": "text/css"
           },
           "children": [
            "\n                        @keyframes pb-fill-anim {\n                            0% { background-position: 0 0; }\n                            100% { background-position: 100px 0; }\n                        }}"
           ],
           "tagName": "style"
          },
          " "
         ],
         "tagName": "div"
        }
       ],
       "tagName": "div"
      },
      "text/html": [
       "<script>\n",
       "              (function () {\n",
       "                  var root = document.getElementById('ea7e3abe-443d-4ef7-96c1-c6d5551e6bcf');\n",
       "                  var text = root.getElementsByClassName('pb-text')[0];\n",
       "                  var fill = root.getElementsByClassName('pb-fill')[0];\n",
       "\n",
       "                  text.innerHTML = 'Simulation finished in 0:01:51.';\n",
       "                  \n",
       "            if (100.0 > 0.) {\n",
       "                fill.style.transition = 'width 0.1s linear';\n",
       "            } else {\n",
       "                fill.style.transition = 'none';\n",
       "            }\n",
       "\n",
       "            fill.style.width = '100.0%';\n",
       "            fill.style.animation = 'none';\n",
       "            fill.style.backgroundImage = 'none'\n",
       "        \n",
       "                  \n",
       "                fill.style.animation = 'none';\n",
       "                fill.style.backgroundImage = 'none';\n",
       "            \n",
       "              })();\n",
       "        </script>"
      ]
     },
     "metadata": {},
     "output_type": "display_data"
    }
   ],
   "source": [
    "srate = 1000\n",
    "model_kwargs = {\n",
    "    'n_trials_per_cond': 2,\n",
    "    'seed': 1337,  # ensemble seed\n",
    "    'trial_seed': 1337,\n",
    "    'out_transform': None,\n",
    "    'q': 6,\n",
    "    'theta': 7.0,\n",
    "    'tau': 0.2,  # Ignored if hetero_tau is True\n",
    "    'n_neurons': 1200,\n",
    "    'max_rates': ['default', 'uniform_low', 'data'][0],\n",
    "    'dales_law': False,\n",
    "    'hetero_tau': False,\n",
    "    'ssp_dim': 0\n",
    "}\n",
    "\n",
    "# cl context\n",
    "cl_plat = [_ for _ in cl.get_platforms() if _.vendor.upper().startswith('NVIDIA')][0]\n",
    "cl_ctx = cl.Context(dev_type=cl.device_type.ALL,\n",
    "                    properties=[(cl.context_properties.PLATFORM, cl_plat)])\n",
    "\n",
    "# Generate training data\n",
    "model, probes = make_lmu_dms(**model_kwargs)\n",
    "n_train_trials = model_kwargs['n_trials_per_cond'] * 8 * 2  # 16 conditions\n",
    "with nengo_ocl.Simulator(model, context=cl_ctx) as sim:\n",
    "    sim.run(6 * n_train_trials)  # 6 seconds per trial\n",
    "    \n",
    "#filt = nengo.synapses.Lowpass(0.01)\n",
    "filt = nengo.Alpha(0.05)\n",
    "spikes = sim.data[probes['ensemble']]\n",
    "rates = filt.filt(spikes)\n",
    "tvec = sim.trange()"
   ]
  },
  {
   "cell_type": "markdown",
   "metadata": {},
   "source": [
    "Take a look at the spiketrains."
   ]
  },
  {
   "cell_type": "code",
   "execution_count": null,
   "metadata": {},
   "outputs": [
    {
     "data": {
      "text/plain": [
       "<AxesSubplot:>"
      ]
     },
     "execution_count": null,
     "metadata": {},
     "output_type": "execute_result"
    },
    {
     "data": {
      "image/png": "[encoded data removed]",
      "text/plain": [
       "<Figure size 432x288 with 1 Axes>"
      ]
     },
     "metadata": {
      "needs_background": "light"
     },
     "output_type": "display_data"
    }
   ],
   "source": [
    "import matplotlib.pyplot as plt\n",
    "from nengo.utils.matplotlib import rasterplot\n",
    "from nengo.utils.ensemble import sorted_neurons, tuning_curves\n",
    "\n",
    "\n",
    "sort_idx = sorted_neurons(model.ensembles[0], sim)\n",
    "rasterplot(tvec[tvec < 18], spikes[:, sort_idx][tvec < 18, ::10])"
   ]
  },
  {
   "cell_type": "markdown",
   "metadata": {},
   "source": [
    "## Calculate statistics of ensemble spiking"
   ]
  },
  {
   "cell_type": "code",
   "execution_count": null,
   "metadata": {},
   "outputs": [],
   "source": [
    "import quantities as pq\n",
    "from neo.core import SpikeTrain\n",
    "from elephant.statistics import isi, cv, mean_firing_rate\n",
    "from elephant.conversion import BinnedSpikeTrain\n",
    "from elephant.spike_train_correlation import spike_train_timescale\n",
    "from pingouin import circ_corrcl\n",
    "\n",
    "\n",
    "bin_size = 1 * pq.ms\n",
    "max_tau = 500 * pq.ms\n",
    "t_stop = (tvec[-1] + 0.001) * pq.s \n",
    "n_neur = model_kwargs['n_neurons']\n",
    "\n",
    "cv_out = np.nan * np.ones((n_neur, 1))\n",
    "rate_out = np.nan * np.ones((n_neur, 1))\n",
    "tscale_out = np.nan * np.ones((n_neur, 1))\n",
    "\n",
    "for n_ix in range(n_neur):\n",
    "    spike_inds = np.where(spikes[:, n_ix])[0]\n",
    "    if len(spike_inds) > 1:\n",
    "        spike_times = tvec[spike_inds]\n",
    "        spiketrain = SpikeTrain(spike_times * pq.s, t_stop)\n",
    "        bin_spiketrain = BinnedSpikeTrain(spiketrain, bin_size=bin_size, t_stop=t_stop, tolerance=None)\n",
    "\n",
    "        cv_out[n_ix] = cv(isi(spiketrain))\n",
    "        rate_out[n_ix] = mean_firing_rate(spiketrain)\n",
    "        tscale_out[n_ix] = spike_train_timescale(bin_spiketrain, max_tau).rescale(pq.s).magnitude\n"
   ]
  },
  {
   "cell_type": "markdown",
   "metadata": {},
   "source": [
    "#### Distribution of CVs"
   ]
  },
  {
   "cell_type": "code",
   "execution_count": null,
   "metadata": {},
   "outputs": [
    {
     "data": {
      "image/png": "[encoded data removed]",
      "text/plain": [
       "<Figure size 432x288 with 1 Axes>"
      ]
     },
     "metadata": {
      "needs_background": "light"
     },
     "output_type": "display_data"
    }
   ],
   "source": [
    "tmp = cv_out[np.logical_and(~np.isnan(cv_out), cv_out > 0.1)]\n",
    "plt.hist(tmp, bins=50)\n",
    "plt.xlabel('CV')\n",
    "plt.ylabel('# Neurons')\n",
    "plt.title(f\"CV = {np.nanmean(tmp):.2f} +/- {np.nanstd(tmp):.2f}\")\n",
    "plt.show()"
   ]
  },
  {
   "cell_type": "markdown",
   "metadata": {},
   "source": [
    "#### Distribution of firing rates. (Note the log-scale in the plot.)"
   ]
  },
  {
   "cell_type": "code",
   "execution_count": null,
   "metadata": {},
   "outputs": [
    {
     "data": {
      "image/png": "[encoded data removed]",
      "text/plain": [
       "<Figure size 432x288 with 1 Axes>"
      ]
     },
     "metadata": {
      "needs_background": "light"
     },
     "output_type": "display_data"
    }
   ],
   "source": [
    "avg_rate, sigma_rate = 10**np.nanmean(np.log10(rate_out)), 10**np.nanstd(np.log10(rate_out))\n",
    "\n",
    "plt.hist(rate_out, bins=10 ** np.linspace(np.log10(0.01), np.log10(100), 50))\n",
    "plt.xlabel('Firing Rate (Hz)')\n",
    "plt.ylabel('# Neurons')\n",
    "plt.gca().set_xscale(\"log\")\n",
    "plt.axvline(avg_rate, ls='--', color='k')\n",
    "plt.title(f\"Average rate = {avg_rate:.2f} +/- {sigma_rate:.2f} Hz; Max={np.nanmax(rate_out):.2f} Hz\")\n",
    "plt.show()"
   ]
  },
  {
   "cell_type": "markdown",
   "metadata": {},
   "source": [
    "#### Distribution of correlation timescales"
   ]
  },
  {
   "cell_type": "code",
   "execution_count": null,
   "metadata": {},
   "outputs": [
    {
     "data": {
      "image/png": "[encoded data removed]",
      "text/plain": [
       "<Figure size 432x288 with 1 Axes>"
      ]
     },
     "metadata": {
      "needs_background": "light"
     },
     "output_type": "display_data"
    }
   ],
   "source": [
    "tmp = np.sort(tscale_out[~np.isnan(tscale_out)])[::-1]\n",
    "tmp = tmp[int(0.1 * tmp.size):int(0.9*tmp.size)]\n",
    "plt.hist(tmp, bins=10 ** np.linspace(np.log10(0.1), np.log10(200), 50))\n",
    "plt.xlabel('Timescale (s)')\n",
    "plt.ylabel('# Neurons')\n",
    "plt.gca().set_xscale(\"log\")\n",
    "plt.axvline(np.nanmean(tmp), ls='--', color='k')\n",
    "plt.title(f\"TS = {np.nanmean(tmp):.2f} +/- {np.nanstd(tmp):.2f} s\")\n",
    "plt.show()\n"
   ]
  },
  {
   "cell_type": "markdown",
   "metadata": {},
   "source": [
    "## Tuning Curves"
   ]
  },
  {
   "cell_type": "code",
   "execution_count": null,
   "metadata": {},
   "outputs": [
    {
     "data": {
      "image/png": "[encoded data removed]",
      "text/plain": [
       "<Figure size 576x432 with 20 Axes>"
      ]
     },
     "metadata": {},
     "output_type": "display_data"
    }
   ],
   "source": [
    "from srnn_pfc.lmu import make_ldn_B_A\n",
    "ldn, B_full, A_full = make_ldn_B_A(theta=model_kwargs['theta'], q=model_kwargs['q'],\n",
    "                                   size_in=2)\n",
    "\n",
    "x = np.random.uniform(-1, 1, size=(500, 2))\n",
    "x_converted, a = nengo.utils.ensemble.tuning_curves(model.ensembles[0], sim,\n",
    "                                                    x @ B_full.T)\n",
    "\n",
    "plt.figure(figsize=(8,6))\n",
    "for i in range(20):\n",
    "    plt.subplot(4, 5, i+1)\n",
    "    plt.tricontourf(x[:,0], x[:,1], a[:,i], cmap='gray_r')\n",
    "    plt.xticks([])\n",
    "    plt.yticks([])\n",
    "plt.tight_layout()"
   ]
  }
 ],
 "metadata": {
  "kernelspec": {
   "display_name": "Python 3",
   "language": "python",
   "name": "python3"
  }
 },
 "nbformat": 4,
 "nbformat_minor": 4
}
